{
 "cells": [
  {
   "cell_type": "code",
   "execution_count": null,
   "id": "a9a43da4",
   "metadata": {},
   "outputs": [],
   "source": []
  },
  {
   "cell_type": "markdown",
   "id": "4500f103",
   "metadata": {},
   "source": [
    "Let $X_1, \\dots, X_n \\overset{\\text{iid}}{\\sim}\\mathcal{N}(\\mu,\\sigma^2), \\mu, \\sigma^2\\in \\mathbb{R}\\times(0,\\infty)$.  We want to test the following at a non-asymptotic level $\\alpha$ (for some $\\alpha \\in (0,1)$):\n",
    "\n",
    "$$\n",
    "H_0: \\mu \\ge 0\n",
    "$$\n",
    "$$\n",
    "H_1: \\mu \\lt 0\n",
    "$$\n",
    "\n",
    "1) Recall that the maximum liklihood estimator $(\\hat{\\mu}, \\hat{\\sigma}^2)$ of $(\\mu, \\sigma^2)$\n",
    "\n",
    "2) Let $S=\\sqrt{n}\\frac{\\hat{\\mu} - \\mu}{\\sqrt{\\hat{\\sigma}^2}}$.  Prove that $S$ is a Student T random variable with $n-1$ degrees of freedom.\n",
    "\n",
    "3) Propose a test with non-asymptotic level $\\alpha$.  Prove your answer."
   ]
  },
  {
   "cell_type": "markdown",
   "id": "8268e1a5",
   "metadata": {},
   "source": [
    "Video 4 note: "
   ]
  }
 ],
 "metadata": {
  "kernelspec": {
   "display_name": "Python 3 (ipykernel)",
   "language": "python",
   "name": "python3"
  },
  "language_info": {
   "codemirror_mode": {
    "name": "ipython",
    "version": 3
   },
   "file_extension": ".py",
   "mimetype": "text/x-python",
   "name": "python",
   "nbconvert_exporter": "python",
   "pygments_lexer": "ipython3",
   "version": "3.9.7"
  }
 },
 "nbformat": 4,
 "nbformat_minor": 5
}
