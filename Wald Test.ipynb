{
 "cells": [
  {
   "cell_type": "code",
   "execution_count": 24,
   "id": "49bce123",
   "metadata": {},
   "outputs": [],
   "source": [
    "import numpy as np\n",
    "import matplotlib.pyplot as plt\n",
    "from scipy.stats import norm"
   ]
  },
  {
   "cell_type": "markdown",
   "id": "f5f17abe",
   "metadata": {},
   "source": [
    "# The Wald Test\n",
    "\n",
    "We are given the statistical model $\\left( \\mathit{E}, \\{ \\mathbb{P}_\\theta\\}_{\\theta \\in \\Theta} \\right)$.  Let $\\theta$ denote the true parameter of our distribution.  To build a Wald test we need an estimator $\\hat{\\theta}$ of the form\n",
    "\n",
    "$$\\frac{\\hat{\\theta} - \\theta}{\\sqrt{\\widehat{\\text{var}}(\\hat{\\theta})}}\\overset{(d)}{\\underset{n \\rightarrow \\infty}{\\to}} \\mathcal{N}(0,1)$$\n",
    "\n",
    "Where $\\widehat{\\text{var}}(\\hat{\\theta})$ is an estimator for the variance of $\\hat{\\theta}$.\n",
    "\n",
    "For example if we have a family of Bernoulli distributions with true parameter $p$, then an estimator for $p$ is $\\hat{p} = \\overline{X}_n$.  Now what is the variance of $\\hat{p}$?  It is $\\frac{p(1-p)}{n}$, but this is not an estimator since it depends on our unknown parameter $p$.  How do we turn it into an estimator?  Put a hat on it.  Or more precicely, we replace the unknown parameter with an estimator for that parameter.\n",
    "\n",
    "$$\\widehat{\\text{var}}(\\hat{p})= \\frac{\\hat{p}(1-\\hat{p})}{n}$$\n",
    "\n",
    "By using the CLT and Slutsky's Lemma we have \n",
    "\n",
    "$$\\frac{\\hat{p} - p}{\\sqrt{\\widehat{\\text{var}}(\\hat{p})}}=\\sqrt{n}\\frac{\\hat{p} -p}{\\sqrt{\\hat{p}(1-\\hat{p})}}\\overset{(d)}{\\underset{n\\to\\infty}{\\to}} \\mathcal{N}(0,1)$$\n",
    "\n",
    "Now, lets build the test more generaly.  We have the estimator\n",
    "\n",
    "$$W := \\frac{\\hat{\\theta} - \\theta_0}{\\sqrt{\\widehat{\\text{var}}(\\hat{\\theta})}}$$\n",
    "\n",
    "Now let's set up our hypotheses. Suppose we are testing to see if $\\hat{\\theta}$, the estimator for $\\theta$, is close to some value $\\theta_0$. We can look at the absolute value to get a two sided test, or just look at $W$ itself if we are in a one-sided scenario.\n",
    "\n",
    "$$\n",
    "\\begin{array}{r|c|c|c}\n",
    "&\n",
    "\\begin{array}{c}H_0: \\theta = \\theta_0 \\\\ H_1: \\theta \\ne \\theta_0\\end{array} &\n",
    "\\begin{array}{c}H_0: \\theta \\le \\theta_0 \\\\ H_1: \\theta \\gt \\theta_0\\end{array} &\n",
    "\\begin{array}{c}H_0: \\theta \\ge \\theta_0 \\\\ H_1: \\theta \\lt \\theta_0\\end{array} &   \\\\\n",
    "\\hline\n",
    "\\text{Wald Test: } \\psi&\\mathbb{1}\\{|W|\\gt q_{\\alpha/2}\\}&\\mathbb{1}\\{ W \\gt q_\\alpha\\}&\\mathbb{1}\\{ W \\lt q_\\alpha\\} \\\\\n",
    "\\end{array}\n",
    "$$\n",
    "\n",
    "So what values of $q_{\\alpha/2}$ and  $q_\\alpha$ do we use to get a desired level for the test?  We have suggestively written them like they were quantiles of a standard normal since we have asymtotic normality for our estimator, that makes sense."
   ]
  },
  {
   "cell_type": "markdown",
   "id": "187e0bc7",
   "metadata": {},
   "source": [
    "## Asymtotic level of the Wald Test\n",
    "\n",
    "We consider first the case of a two sided test.  We are interested in determining when we will reject the null hypothesis.  This is saying that if our test $\\psi$ returns a value of $1$ under the null hypothesis on $\\theta$ then we will reject the null hypothesis.  Stipulating that our test be done under the null hypothesis is an important and subtle point.  When we compute the value that our test is giving us we are doing so under the null hypothesis.  That is we are computing the value of the test based on the assumption that the true $\\theta$ is as per our null hypothesis.  That is to say that we will be computing the value of our Wald's test with the assumption that $\\theta = \\theta_0$.  In the case of two sided tests, this does not present a hurdle to comuting the asymtotic level, but it does raise a small issue in the single sided tests as you will see below."
   ]
  },
  {
   "cell_type": "code",
   "execution_count": 23,
   "id": "c425b067",
   "metadata": {},
   "outputs": [
    {
     "data": {
      "image/png": "[encoded data removed]",
      "text/plain": [
       "<Figure size 432x72 with 1 Axes>"
      ]
     },
     "metadata": {
      "needs_background": "light"
     },
     "output_type": "display_data"
    }
   ],
   "source": [
    "# set up the figure\n",
    "fig, ax = plt.subplots(figsize=(6,1))\n",
    "ax.set_xlim(0,10)\n",
    "ax.set_ylim(0,1.5)\n",
    "\n",
    "# name some important points on the line\n",
    "xmin = 0\n",
    "xmax = 9\n",
    "y = 0.1\n",
    "theta_0 = 5\n",
    "c = 2\n",
    "\n",
    "# the fail to reject portion\n",
    "plt.plot(theta_0,y,'o',ms=10)\n",
    "plt.hlines(y, theta_0 - c, theta_0 + c)\n",
    "plt.plot([theta_0 -c,theta_0 + c],[y,y], 'o', ms=10, mfc=\"w\")\n",
    "#plt.plot(theta_0 - c,y, 'o', ms=10, mfc=\"w\")\n",
    "\n",
    "# make rejection region line heavier weight\n",
    "plt.hlines(y,theta_0 + c, xmax, lw=4)\n",
    "plt.hlines(y,xmin, theta_0 - c, lw=4)\n",
    "\n",
    "# label our test function\n",
    "plt.text(theta_0+3,0.75,\"$\\psi$\")\n",
    "\n",
    "# Plot our test function\n",
    "x=[1,1,1,0.1,0.1,0.1,0.1,1,1,1]\n",
    "plt.plot(x,drawstyle=\"steps-post\",label=\"$\\psi(X_1,...,X_n)$\")\n",
    "\n",
    "plt.xticks(ticks=[theta_0-c,theta_0,theta_0+c],labels=[r'$\\theta_0 - c$',r'$\\theta_0$',r'$\\theta_0+c$'])\n",
    "plt.plot\n",
    "ax.spines['top'].set_visible(False)\n",
    "ax.spines['right'].set_visible(False)\n",
    "ax.spines['bottom'].set_visible(False)\n",
    "#plt.axis('off')\n",
    "plt.show()"
   ]
  },
  {
   "cell_type": "markdown",
   "id": "de702c60",
   "metadata": {},
   "source": [
    "Since we are looking at an asymtotitc level we consider\n",
    "\n",
    "$$\\underset{n\\to \\infty}{\\lim}\\mathbb{P}_{\\theta}\\left[ \\psi = 1 \\right]$$\n",
    "\n",
    "Under the null hypothesis this means that $\\theta = \\theta_0$ and if we substitute for $\\psi$ the definition of the test we rewrite this as.\n",
    "\n",
    "$$=\\underset{n\\to \\infty}{\\lim}\\mathbb{P}_{\\theta_0}\\left[ |W| \\gt q_{\\alpha/2} \\right]$$\n",
    "\n",
    "Where we note that the probability is now over $\\theta = \\theta_0$.  As we saw above, but the Central Limit Theorem and Slutsky's Lemma we have that this converges in distribution to $\\mathcal{N}(0,1)$ where\n",
    "\n",
    "$$W=\\frac{\\hat{\\theta}-\\theta_0}{\\sqrt{\\widehat{\\text{var}}(\\hat{\\theta})}}$$\n",
    "\n",
    "What is this saying?  If we construct an estimator $W$ centered at $\\theta_0$ normalized by dividing by the square root of the estimated variance of our estimator $\\hat{\\theta}$ then $W$ converges to a standard normal.  Now we can use the standard normal quantiles to bound the asymtotic level for our Wald Test.  Thus we get that\n",
    "\n",
    "$$\\underset{n\\to \\infty}{\\lim}\\mathbb{P}_{\\theta_0}\\left[ \\psi = 1 \\right] = \\mathbb{P}\\left[ |Z| \\gt q_{\\alpha/2} \\right] = \\alpha$$"
   ]
  },
  {
   "cell_type": "code",
   "execution_count": 84,
   "id": "46bb6c3b",
   "metadata": {},
   "outputs": [
    {
     "data": {
      "image/png": "[encoded data removed]",
      "text/plain": [
       "<Figure size 432x216 with 2 Axes>"
      ]
     },
     "metadata": {
      "needs_background": "light"
     },
     "output_type": "display_data"
    }
   ],
   "source": [
    "\n",
    "# set up the figure\n",
    "fig, ax = plt.subplots(figsize=(6,3))\n",
    "ax.set_xlim(0,10)\n",
    "ax.set_ylim(-0.1,2)\n",
    "\n",
    "# name some important points on the line\n",
    "xmin = 0\n",
    "xmax = 9\n",
    "y = 0.1\n",
    "theta_0 = 5\n",
    "c = 2\n",
    "\n",
    "# the fail to reject portion\n",
    "plt.plot(theta_0,0,'o',ms=5)\n",
    "plt.hlines(0, theta_0 - c, theta_0 + c)\n",
    "plt.plot([theta_0 -c,theta_0 + c],[0,0], 'o', ms=5, mfc=\"w\")\n",
    "#plt.plot(theta_0 - c,y, 'o', ms=10, mfc=\"w\")\n",
    "\n",
    "# make rejection region line heavier weight\n",
    "plt.hlines(0,theta_0 + c, xmax)\n",
    "plt.hlines(0,xmin, theta_0 - c)\n",
    "\n",
    "# label our test function\n",
    "plt.text(theta_0+3,0.75,\"$\\psi$\")\n",
    "\n",
    "# Plot our test function\n",
    "x=[1,1,1,0,0,0,0,1,1,1]\n",
    "plt.plot(x,drawstyle=\"steps-post\",label=\"$\\psi(X_1,...,X_n)$\", alpha=0.5)\n",
    "\n",
    "plt.xticks(ticks=[theta_0-c,theta_0,theta_0+c],labels=[r'$\\theta_0 - c$',r'$\\theta_0$',r'$\\theta_0+c$'])\n",
    "plt.plot\n",
    "ax.spines['top'].set_visible(False)\n",
    "ax.spines['right'].set_visible(False)\n",
    "ax.spines['bottom'].set_visible(False)\n",
    "#plt.axis('off')\n",
    "\n",
    "# plot our normal dist with different y axis\n",
    "# x values for the normal plot.\n",
    "ax2 = ax.twinx()\n",
    "x = np.linspace(xmin, xmax, 201)\n",
    "\n",
    "#freeze a normal dist.\n",
    "rv = norm(theta_0, 1)\n",
    "\n",
    "# plot our normal function.\n",
    "ax2.plot(x, rv.pdf(x), label='Normal Distribution\\n scipy.stats.norm.pdf(x)')\n",
    "\n",
    "ax2.vlines(x=[theta_0-c, theta_0+c], ymin=[0, 0], ymax=[rv.pdf(theta_0-c), rv.pdf(theta_0+c)], color='red', alpha=0.5)\n",
    "x_left=np.linspace(xmin,theta_0-c,201)\n",
    "x_right=np.linspace(theta_0+c,xmax,201)\n",
    "ax2.fill_between(x_left, rv.pdf(x_left), alpha=0.75, facecolor='lightblue')\n",
    "ax2.fill_between(x_right, rv.pdf(x_right), alpha=0.75, facecolor='lightblue')\n",
    "ax.text(1,0.3,\"shaded area is the \\n probability that\\n $|Z| \\geq \\\\alpha$ \")\n",
    "plt.axis('on')\n",
    "#ax.legend()\n",
    "\n",
    "plt.show()"
   ]
  },
  {
   "cell_type": "markdown",
   "id": "941398d1",
   "metadata": {},
   "source": [
    "We can carry out a similar analysis for the other cases.  Let's look at the one sided test based on\n",
    "\n",
    "$$H_0: \\theta \\le \\theta_0 \\\\ H_1: \\theta \\gt \\theta_0$$\n",
    "\n",
    "So what are we looking to control?  Since we are looking to control the type 1 error rate we want to have that for any $\\theta \\le \\theta_0$ we want to be able to place a bound on the following limit:\n",
    "\n",
    "$$\\underset{n\\to \\infty}{\\lim}\\mathbb{P}_{\\theta}\\left[ \\psi = 1 \\right] = \\underset{n\\to \\infty}{\\lim}\\mathbb{P}_{\\theta}\\left[ W \\gt q_{\\alpha} \\right] = \\underset{n\\to \\infty}{\\lim}\\mathbb{P}_{\\theta} \\left[ \\frac{\\hat{\\theta}-\\theta_0}{\\sqrt{\\widehat{\\text{var}}(\\hat{\\theta})}}\\gt q_\\alpha \\right]$$\n",
    "\n",
    "Where the reasoning is as above.  The wrinkle here is that we would like that limit to converge to $\\alpha$ however we want that convergence to be true for all possible $\\theta$ that are in the null hypothesis region.  Right now we have an expression that reports the probability relative to a $\\theta \\in (-\\infty, \\theta_0)$, but our estimator is only telling us asymtotic results relative to the centre $\\theta_0$.  Let's work on that.\n",
    "\n",
    "If we rewrite our $W$ statistic as\n",
    "\n",
    "$$\\frac{\\hat{\\theta}-\\theta_0}{\\sqrt{\\widehat{\\text{var}}(\\hat{\\theta})}}=\\frac{\\hat{\\theta}-\\theta}{\\sqrt{\\widehat{\\text{var}}(\\hat{\\theta})}} + \\frac{\\theta-\\theta_0}{\\sqrt{\\widehat{\\text{var}}(\\hat{\\theta})}}$$\n",
    "\n",
    "where $\\theta \\lt \\theta_0$ then the second term above will always be negative and thus if we just look at the first term we see that\n",
    "\n",
    "$$\\underset{n\\to \\infty}{\\lim}\\mathbb{P}_{\\theta}\\left[ \\psi = 1 \\right] \\le \\underset{n\\to \\infty}{\\lim}\\mathbb{P}_{\\theta}\\left[\\frac{\\hat{\\theta}-\\theta}{\\sqrt{\\widehat{\\text{var}}(\\hat{\\theta})}}\\gt q_\\alpha \\right]$$\n",
    "\n",
    "Where now we do not have an equality but an inequality and we have that the right hand side converges to a standard normal.  Thus we can write\n",
    "\n",
    "$$\\underset{n\\to \\infty}{\\lim}\\mathbb{P}_{\\theta}\\left[ \\psi = 1 \\right] \\le \\mathbb{P}_{\\theta}\\left[ Z \\gt q_\\alpha \\right] = \\alpha$$\n",
    "\n",
    "where $Z \\sim \\mathcal{N}(0,1)$"
   ]
  },
  {
   "cell_type": "code",
   "execution_count": 88,
   "id": "731a2f39",
   "metadata": {},
   "outputs": [
    {
     "data": {
      "image/png": "[encoded data removed]",
      "text/plain": [
       "<Figure size 432x72 with 1 Axes>"
      ]
     },
     "metadata": {
      "needs_background": "light"
     },
     "output_type": "display_data"
    }
   ],
   "source": [
    "# set up the figure\n",
    "fig, ax = plt.subplots(figsize=(6,1))\n",
    "ax.set_xlim(0,10)\n",
    "ax.set_ylim(-0.1,1)\n",
    "\n",
    "# name some important points on the line\n",
    "xmin = 0\n",
    "xmax = 9\n",
    "y = 0\n",
    "theta = 3\n",
    "theta_0 = 5\n",
    "\n",
    "# the fail to reject portion\n",
    "plt.plot(theta_0,y,'o',ms=10)\n",
    "plt.hlines(y, xmin, theta_0)\n",
    "plt.plot(theta,y, 'o', ms=10, mfc=\"w\")\n",
    "#plt.plot(theta_0 - c,y, 'o', ms=10, mfc=\"w\")\n",
    "\n",
    "# make rejection region line heavier weight\n",
    "plt.hlines(y,theta_0, xmax, lw=4)\n",
    "\n",
    "# label our parameter theta_0 and c\n",
    "plt.text(theta, y-0.35, r'$\\theta$', fontsize=14)\n",
    "plt.text(theta_0, y-0.35, r'$\\theta_0$', fontsize=14)\n",
    "#plt.text(theta_0+3,0.75,\"$\\psi$\")\n",
    "\n",
    "# Plot our test function\n",
    "x=[0,0,0,1,1,1,1,1,1,1]\n",
    "plt.plot(x,drawstyle=\"steps-post\",label=\"$\\psi(X_1,...,X_n)$\")\n",
    "\n",
    "plt.plot\n",
    "plt.axis('off')\n",
    "plt.show()"
   ]
  },
  {
   "cell_type": "markdown",
   "id": "7cce4d37",
   "metadata": {},
   "source": [
    "The argument for the third type of test where our null hypothesis is that $\\theta$ exceeds some value $\\theta_0$ is exactly the same.  The only change is that when we look at \n",
    "\n",
    "$$\\frac{\\hat{\\theta}-\\theta_0}{\\sqrt{\\widehat{\\text{var}}(\\hat{\\theta})}}=\\frac{\\hat{\\theta}-\\theta}{\\sqrt{\\widehat{\\text{var}}(\\hat{\\theta})}} + \\frac{\\theta-\\theta_0}{\\sqrt{\\widehat{\\text{var}}(\\hat{\\theta})}}$$"
   ]
  },
  {
   "cell_type": "code",
   "execution_count": 82,
   "id": "66968efd",
   "metadata": {},
   "outputs": [
    {
     "data": {
      "image/png": "[encoded data removed]",
      "text/plain": [
       "<Figure size 432x72 with 1 Axes>"
      ]
     },
     "metadata": {
      "needs_background": "light"
     },
     "output_type": "display_data"
    }
   ],
   "source": [
    "# set up the figure\n",
    "fig, ax = plt.subplots(figsize=(6,1))\n",
    "ax.set_xlim(0,10)\n",
    "ax.set_ylim(0,1)\n",
    "\n",
    "# name some important points on the line\n",
    "xmin = 0\n",
    "xmax = 9\n",
    "y = 0.1\n",
    "theta = 5\n",
    "theta_0 = 3\n",
    "\n",
    "# the fail to reject portion\n",
    "plt.plot(theta_0,y,'o',ms=10)\n",
    "plt.hlines(y, theta_0, xmax)\n",
    "plt.plot(theta,y, 'o', ms=10, mfc=\"w\")\n",
    "#plt.plot(theta_0 - c,y, 'o', ms=10, mfc=\"w\")\n",
    "\n",
    "# make rejection region line heavier weight\n",
    "plt.hlines(y,xmin, theta_0, lw=4)\n",
    "\n",
    "# label our parameter theta_0 and c\n",
    "plt.text(theta, y-0.35, r'$\\theta$', fontsize=14)\n",
    "plt.text(theta_0, y-0.35, r'$\\theta_0$', fontsize=14)\n",
    "#plt.text(theta_0+3,0.75,\"$\\psi$\")\n",
    "\n",
    "# Plot our test function\n",
    "#x=[1,1,1,1,0.1,0.1,1,1,1,1]\n",
    "#plt.plot(x,drawstyle=\"steps-post\",label=\"$\\psi(X_1,...,X_n)$\")\n",
    "\n",
    "plt.plot\n",
    "plt.axis('off')\n",
    "plt.show()"
   ]
  },
  {
   "cell_type": "markdown",
   "id": "52edbc84",
   "metadata": {},
   "source": [
    "we see that since $\\theta \\gt \\theta_0$ then $\\theta - \\theta_0 \\gt 0$ and hence our inequalities are reversed.\n",
    "\n",
    "So if \n",
    "\n",
    "$$H_0: \\theta \\ge \\theta_0 \\\\ H_1: \\theta \\lt \\theta_0$$\n",
    "\n",
    "That is we want to bound the following limit:\n",
    "\n",
    "$$\\underset{n\\to \\infty}{\\lim}\\mathbb{P}_{\\theta}\\left[ \\psi = 1 \\right] = \\underset{n\\to \\infty}{\\lim}\\mathbb{P}_{\\theta}\\left[ W \\lt q_{\\alpha} \\right] = \\underset{n\\to \\infty}{\\lim}\\mathbb{P}_{\\theta} \\left[ \\frac{\\hat{\\theta}-\\theta_0}{\\sqrt{\\widehat{\\text{var}}(\\hat{\\theta})}}\\lt q_\\alpha \\right]$$\n",
    "\n",
    "\n",
    "If we rewrite our $W$ statistic as\n",
    "\n",
    "$$\\frac{\\hat{\\theta}-\\theta_0}{\\sqrt{\\widehat{\\text{var}}(\\hat{\\theta})}}=\\frac{\\hat{\\theta}-\\theta}{\\sqrt{\\widehat{\\text{var}}(\\hat{\\theta})}} + \\frac{\\theta-\\theta_0}{\\sqrt{\\widehat{\\text{var}}(\\hat{\\theta})}}$$\n",
    "\n",
    "where $\\theta \\gt \\theta_0$ then the second term above will always be positive and thus if we just look at the first term we see that\n",
    "\n",
    "$$\\underset{n\\to \\infty}{\\lim}\\mathbb{P}_{\\theta}\\left[ \\psi = 1 \\right] \\ge \\underset{n\\to \\infty}{\\lim}\\mathbb{P}_{\\theta}\\left[\\frac{\\hat{\\theta}-\\theta}{\\sqrt{\\widehat{\\text{var}}(\\hat{\\theta})}}\\lt q_\\alpha \\right]$$\n",
    "\n",
    "Where now we do not have an equality but an inequality and we have that the right hand side converges to a standard normal.  Thus we can write\n",
    "\n",
    "$$\\underset{n\\to \\infty}{\\lim}\\mathbb{P}_{\\theta}\\left[ \\psi = 1 \\right] \\ge \\mathbb{P}_{\\theta}\\left[ Z \\lt q_\\alpha \\right] = \\alpha$$\n",
    "\n",
    "where $Z \\sim \\mathcal{N}(0,1)$"
   ]
  }
 ],
 "metadata": {
  "kernelspec": {
   "display_name": "Python 3 (ipykernel)",
   "language": "python",
   "name": "python3"
  },
  "language_info": {
   "codemirror_mode": {
    "name": "ipython",
    "version": 3
   },
   "file_extension": ".py",
   "mimetype": "text/x-python",
   "name": "python",
   "nbconvert_exporter": "python",
   "pygments_lexer": "ipython3",
   "version": "3.9.7"
  }
 },
 "nbformat": 4,
 "nbformat_minor": 5
}
