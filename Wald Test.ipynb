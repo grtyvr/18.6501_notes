{
 "cells": [
  {
   "cell_type": "code",
   "execution_count": null,
   "id": "3064a723",
   "metadata": {},
   "outputs": [],
   "source": [
    "import numpy as np\n",
    "import matplotlib.pyplot as plt\n",
    "from scipy.stats import norm"
   ]
  },
  {
   "cell_type": "markdown",
   "id": "f5f17abe",
   "metadata": {},
   "source": [
    "# The Wald Test\n",
    "\n",
    "We are given the statistical model $\\left( \\mathit{E}, \\{ \\mathbb{P}_\\theta\\}_{\\theta \\in \\Theta} \\right)$.  Let $\\theta$ denote the true parameter of our distribution.  To build a Wald test we need an estimator for $\\theta$, which we will call $\\hat{\\theta}$, where this estimator $\\hat{\\theta}$ satisfies\n",
    "\n",
    "$$\\frac{\\hat{\\theta} - \\theta}{\\sqrt{\\widehat{\\text{var}}(\\hat{\\theta})}}\\overset{(d)}{\\underset{n \\rightarrow \\infty}{\\to}} \\mathcal{N}(0,1)$$\n",
    "\n",
    "Where $\\widehat{\\text{var}}(\\hat{\\theta})$ is an estimator for the variance of $\\hat{\\theta}$.\n",
    "\n",
    "For example if we have a family of Bernoulli distributions with true parameter $p$, then an estimator for $p$ is to take the sample mean, $\\hat{p} = \\overline{X}_n$.  What is the variance of $\\hat{p}$?  We have seen that since the sum of Bernouli random variables is distributed as a Binomial random variable with parameters $n$ and $p$ then the variance is $\\frac{p(1-p)}{n}$.  However this is not an estimator since it depends on our unknown parameter $p$.  How do we turn it into an estimator?  Put a hat on it.  Or more precicely, we replace the unknown parameter with an estimator for that parameter.  And the estimator that we will use is $\\hat{p}$\n",
    "\n",
    "$$\\widehat{\\text{var}}(\\hat{p})= \\frac{\\hat{p}(1-\\hat{p})}{n}$$\n",
    "\n",
    "So if we substitute $\\widehat{\\text{var}}(\\hat{p})$ into our estimator formula above, and by using the CLT and Slutsky's Lemma we have \n",
    "\n",
    "$$\\frac{\\hat{p} - p}{\\sqrt{\\widehat{\\text{var}}(\\hat{p})}}=\\sqrt{n}\\frac{\\hat{p} -p}{\\sqrt{\\hat{p}(1-\\hat{p})}}\\overset{(d)}{\\underset{n\\to\\infty}{\\to}} \\mathcal{N}(0,1)$$\n",
    "\n",
    "Now, lets build the test more generaly.  We look at the following test statistic:\n",
    "\n",
    "$$W := \\frac{\\hat{\\theta} - \\theta_0}{\\sqrt{\\widehat{\\text{var}}(\\hat{\\theta})}}$$\n",
    "\n",
    "There are three cases to consider.  We can use this test statistic to see how far away our estimator $\\widehat{\\text{var}}(\\hat{\\theta})$ is from our true parameter $\\theta_0$.  Or we could see if our test statistic is negative, in which case we have an estimator that is smaller than the true parameter, or we could see if our test statistic is positive, implying that our estimator is larger than the true parameter.\n",
    "\n",
    "$$\n",
    "\\begin{array}{r|c|c|c}\n",
    "&\n",
    "\\begin{array}{c}H_0: \\theta = \\theta_0 \\\\ H_1: \\theta \\ne \\theta_0\\end{array} &\n",
    "\\begin{array}{c}H_0: \\theta \\le \\theta_0 \\\\ H_1: \\theta \\gt \\theta_0\\end{array} &\n",
    "\\begin{array}{c}H_0: \\theta \\ge \\theta_0 \\\\ H_1: \\theta \\lt \\theta_0\\end{array} &   \\\\\n",
    "\\hline\n",
    "\\text{Wald Test: } \\psi&\\mathbb{1}\\{|W|\\gt q_{\\alpha/2}\\}&\\mathbb{1}\\{ W \\gt q_\\alpha\\}&\\mathbb{1}\\{ W \\lt q_\\alpha\\} \\\\\n",
    "\\end{array}\n",
    "$$\n",
    "\n",
    "So what values of $q_{\\alpha/2}$ and  $q_\\alpha$ do we use to get a desired level for the test?  We have suggestively written them like they were quantiles of a standard normal since we have asymtotic normality for our estimator, that makes sense."
   ]
  },
  {
   "cell_type": "code",
   "execution_count": 288,
   "id": "a5f05a9f",
   "metadata": {},
   "outputs": [
    {
     "data": {
      "image/png": "[encoded data removed]",
      "text/plain": [
       "<Figure size 720x72 with 3 Axes>"
      ]
     },
     "metadata": {
      "needs_background": "light"
     },
     "output_type": "display_data"
    }
   ],
   "source": [
    "# set up the figure\n",
    "fig, axs = plt.subplots(1,3, figsize=(10,1))\n",
    "for ax in axs:\n",
    "    ax.set_xlim(0,10)\n",
    "    ax.set_ylim(0,1.5)\n",
    "\n",
    "# name some important points on the line\n",
    "xmin = 0\n",
    "xmax = 9\n",
    "y = 0.1\n",
    "theta_0 = 5\n",
    "c = 2\n",
    "ms=8\n",
    "\n",
    "# First Figure two sided test\n",
    "# the fail to reject portion\n",
    "axs[0].plot(theta_0,y,'o',ms=ms)\n",
    "axs[0].hlines(y, theta_0 - c, theta_0 + c)\n",
    "axs[0].plot([theta_0 -c,theta_0 + c],[y,y], 'o', ms=ms, mfc=\"w\")\n",
    "\n",
    "# make rejection region line heavier weight\n",
    "axs[0].hlines(y,theta_0 + c, xmax, lw=4)\n",
    "axs[0].hlines(y,xmin, theta_0 - c, lw=4)\n",
    "\n",
    "# label our test function\n",
    "axs[0].text(theta_0+3,0.75,\"$\\psi$\")\n",
    "\n",
    "# Plot our test function\n",
    "x=[1,1,1,0.1,0.1,0.1,0.1,1,1,1]\n",
    "axs[0].plot(x,drawstyle=\"steps-post\",label=\"$\\psi(X_1,...,X_n)$\")\n",
    "\n",
    "# Second Figure one sided test\n",
    "# the fail to reject portion\n",
    "axs[1].plot(theta_0,y,'o',ms=ms)\n",
    "axs[1].hlines(y, xmin, theta_0)\n",
    "\n",
    "# make rejection region line heavier weight\n",
    "axs[1].hlines(y,theta_0, xmax, lw=4)\n",
    "\n",
    "# label our test function\n",
    "axs[1].text(theta_0+0.25,0.75,\"$\\psi$\")\n",
    "\n",
    "# Plot our test function\n",
    "x=[0.1,0.1,0.1,0.1,0.1,1,1,1,1,1]\n",
    "axs[1].plot(x,drawstyle=\"steps-post\",label=\"$\\psi(X_1,...,X_n)$\")\n",
    "\n",
    "# Third Figure one sided test\n",
    "# the fail to reject portion\n",
    "axs[2].plot(theta_0,y,'o',ms=ms)\n",
    "axs[2].hlines(y,theta_0, xmax)\n",
    "\n",
    "# make rejection region line heavier weight\n",
    "axs[2].hlines(y,xmin, theta_0, lw=4, label=\"Rejection Region\")\n",
    "\n",
    "# label our test function\n",
    "axs[2].text(theta_0+0.25,0.75,\"$\\psi$\")\n",
    "\n",
    "# Plot our test function\n",
    "x=[1,1,1,1,1,0.1,0.1,0.1,0.1,0.1]\n",
    "axs[2].plot(x,drawstyle=\"steps-post\",label=\"$\\psi(X_1,...,X_n)$\")\n",
    "\n",
    "axs[0].set_title(r\"$H_0: \\theta=\\theta_0$\")\n",
    "axs[0].set_xticks(ticks=[theta_0-c,theta_0,theta_0+c])\n",
    "axs[0].set_xticklabels([r'$\\theta_0 - c$',r'$\\theta_0$',r'$\\theta_0+c$'])\n",
    "axs[1].set_title(r\"$H_0: \\theta \\leq \\theta_0$\")\n",
    "axs[1].set_xticks(ticks=[theta_0])\n",
    "axs[1].set_xticklabels([r'$\\theta_0$'])\n",
    "axs[2].set_title(r\"$H_0: \\theta \\geq \\theta_0$\")\n",
    "axs[2].set_xticks(ticks=[theta_0])\n",
    "axs[2].set_xticklabels([r'$\\theta_0$'])\n",
    "for ax in axs:\n",
    "    ax.spines['top'].set_visible(False)\n",
    "    ax.spines['right'].set_visible(False)\n",
    "    ax.spines['bottom'].set_visible(False)\n",
    "#plt.axis('off')\n",
    "#fig.legend()\n",
    "plt.show()"
   ]
  },
  {
   "cell_type": "markdown",
   "id": "187e0bc7",
   "metadata": {},
   "source": [
    "## Asymtotic level of the Wald Test\n",
    "\n",
    "We consider first the case of a two sided test.  Recall that the (asymptotic) level of a test is the largest value that the probability of making a type 1 error can take for that particular test, and it is usually denoted by $\\alpha$ .  So if $\\psi$ is our test, then that means we are looking for the largest value that $\\mathbb{P}_\\theta[\\psi=1]$ can take when we look at all possible values of $\\theta \\in \\Theta_0$. Since we are in the situation where we just have a simple hypothesis for $H_0: \\theta = \\theta_0$ that means we have only one value in $\\Theta_0$, and that is $\\theta_0$. Thus we can write this as:\n",
    "\n",
    "$$\\max \\mathbb{P}_\\theta[\\psi=1] \\le \\alpha, \\forall \\theta \\in \\Theta_0 \\equiv \\mathbb{P}_{\\theta_0}[\\psi = 1]$$\n",
    "\n",
    "We are interested in determining when we will reject the null hypothesis.  This is saying that if our test $\\psi$ returns a value of $1$ under the null hypothesis on $\\theta$ then we will reject the null hypothesis.  Stipulating that our test be done under the null hypothesis is an important and subtle point.  When we compute the value that our test is giving us we are doing so under the null hypothesis.  That is we are computing the value of the test based on the assumption that the true $\\theta$ is as per our null hypothesis.  That is to say that in the two sided test we will be computing the value of our Wald's test with the assumption that $\\theta = \\theta_0$.  In the case of two sided tests, this does not present a hurdle to comuting the asymtotic level, but it does raise a small issue in the single sided tests as you will see below."
   ]
  },
  {
   "cell_type": "code",
   "execution_count": 4,
   "id": "c425b067",
   "metadata": {},
   "outputs": [
    {
     "data": {
      "image/png": "[encoded data removed]",
      "text/plain": [
       "<Figure size 432x72 with 1 Axes>"
      ]
     },
     "metadata": {
      "needs_background": "light"
     },
     "output_type": "display_data"
    }
   ],
   "source": [
    "# set up the figure\n",
    "fig, ax = plt.subplots(figsize=(6,1))\n",
    "ax.set_xlim(0,10)\n",
    "ax.set_ylim(0,1.5)\n",
    "\n",
    "# name some important points on the line\n",
    "xmin = 0\n",
    "xmax = 9\n",
    "y = 0.1\n",
    "theta_0 = 5\n",
    "c = 2\n",
    "\n",
    "# the fail to reject portion\n",
    "plt.plot(theta_0,y,'o',ms=10)\n",
    "plt.hlines(y, theta_0 - c, theta_0 + c)\n",
    "plt.plot([theta_0 -c,theta_0 + c],[y,y], 'o', ms=10, mfc=\"w\")\n",
    "#plt.plot(theta_0 - c,y, 'o', ms=10, mfc=\"w\")\n",
    "\n",
    "# make rejection region line heavier weight\n",
    "plt.hlines(y,theta_0 + c, xmax, lw=4)\n",
    "plt.hlines(y,xmin, theta_0 - c, lw=4)\n",
    "\n",
    "# label our test function\n",
    "plt.text(theta_0+3,0.75,\"$\\psi$\")\n",
    "\n",
    "# Plot our test function\n",
    "x=[1,1,1,0.1,0.1,0.1,0.1,1,1,1]\n",
    "plt.plot(x,drawstyle=\"steps-post\",label=\"$\\psi(X_1,...,X_n)$\")\n",
    "\n",
    "plt.xticks(ticks=[theta_0-c,theta_0,theta_0+c],labels=[r'$\\theta_0 - c$',r'$\\theta_0$',r'$\\theta_0+c$'])\n",
    "plt.plot\n",
    "ax.spines['top'].set_visible(False)\n",
    "ax.spines['right'].set_visible(False)\n",
    "ax.spines['bottom'].set_visible(False)\n",
    "#plt.axis('off')\n",
    "plt.show()"
   ]
  },
  {
   "cell_type": "markdown",
   "id": "de702c60",
   "metadata": {},
   "source": [
    "Since we are looking at an asymtotitc level we consider\n",
    "\n",
    "$$\\underset{n\\to \\infty}{\\lim}\\mathbb{P}_{\\theta_0}\\left[ \\psi = 1 \\right]$$\n",
    "\n",
    "If we substitute for $\\psi$ the definition of the test we rewrite this as.\n",
    "\n",
    "$$=\\underset{n\\to \\infty}{\\lim}\\mathbb{P}_{\\theta_0}\\left[ |W| \\gt q_{\\alpha/2} \\right]$$\n",
    "\n",
    "As we saw above, by the Central Limit Theorem and Slutsky's Lemma we have that $W$ converges in distribution to $\\mathcal{N}(0,1)$.  That is we have the following\n",
    "\n",
    "$$\n",
    "W=\\frac{\\hat{\\theta}-\\theta_0}{\\sqrt{\\widehat{\\text{var}}(\\hat{\\theta})}}\\overset{(d)}{\\underset{n \\rightarrow \\infty}{\\to}} \\mathcal{N}(0,1)\n",
    "$$\n",
    "\n",
    "What is this saying?  We define a test a test statistic for our estimated parameter $\\hat{\\theta}$ called $W$.  We create this statistic by centering on $\\theta_0$ and rescale by dividing by the square root of the estimated variance of our estimator $\\hat{\\theta}$. Then in the limit the distribution of $W$ converges to a standard normal.\n",
    "\n",
    "Now we can use the standard normal quantiles to bound the asymtotic level for our Wald Test.  Thus we get that\n",
    "\n",
    "$$\\underset{n\\to \\infty}{\\lim}\\mathbb{P}_{\\theta_0}\\left[ \\psi = 1 \\right] = \\mathbb{P}\\left[ |Z| \\gt q_{\\alpha/2} \\right] = \\alpha$$"
   ]
  },
  {
   "cell_type": "code",
   "execution_count": 292,
   "id": "46bb6c3b",
   "metadata": {},
   "outputs": [
    {
     "data": {
      "image/png": "[encoded data removed]",
      "text/plain": [
       "<Figure size 432x216 with 2 Axes>"
      ]
     },
     "metadata": {
      "needs_background": "light"
     },
     "output_type": "display_data"
    }
   ],
   "source": [
    "\n",
    "# set up the figure\n",
    "fig, ax = plt.subplots(figsize=(6,3))\n",
    "ax.set_xlim(0,10)\n",
    "ax.set_ylim(-0.1,2)\n",
    "\n",
    "# name some important points on the line\n",
    "xmin = 0\n",
    "xmax = 9\n",
    "y = 0.1\n",
    "theta_0 = 5\n",
    "c = 2\n",
    "\n",
    "# the fail to reject portion\n",
    "plt.plot(theta_0,0,'o',ms=5)\n",
    "plt.hlines(0, theta_0 - c, theta_0 + c)\n",
    "plt.plot([theta_0 -c,theta_0 + c],[0,0], 'o', ms=5, mfc=\"w\")\n",
    "#plt.plot(theta_0 - c,y, 'o', ms=10, mfc=\"w\")\n",
    "\n",
    "# make rejection region line heavier weight\n",
    "plt.hlines(0,theta_0 + c, xmax)\n",
    "plt.hlines(0,xmin, theta_0 - c)\n",
    "\n",
    "# label our test function\n",
    "plt.text(theta_0+3,0.75,\"$\\psi$\")\n",
    "\n",
    "# Plot our test function\n",
    "x=[1,1,1,0,0,0,0,1,1,1]\n",
    "plt.plot(x,drawstyle=\"steps-post\",label=\"$\\psi(X_1,...,X_n)$\", alpha=0.5)\n",
    "\n",
    "plt.xticks(ticks=[theta_0-c,theta_0,theta_0+c],labels=[r'$-q_{\\alpha/2}$',r'$0$',r'$+q_{\\alpha/2}$'])\n",
    "plt.plot\n",
    "ax.spines['top'].set_visible(False)\n",
    "ax.spines['right'].set_visible(False)\n",
    "ax.spines['bottom'].set_visible(False)\n",
    "#plt.axis('off')\n",
    "\n",
    "# plot our normal dist with different y axis\n",
    "# x values for the normal plot.\n",
    "ax2 = ax.twinx()\n",
    "x = np.linspace(xmin, xmax, 201)\n",
    "\n",
    "#freeze a normal dist.\n",
    "rv = norm(theta_0, 1)\n",
    "\n",
    "# plot our normal function.\n",
    "ax2.plot(x, rv.pdf(x), label='Normal Distribution\\n scipy.stats.norm.pdf(x)')\n",
    "\n",
    "ax2.vlines(x=[theta_0-c, theta_0+c], ymin=[0, 0], ymax=[rv.pdf(theta_0-c), rv.pdf(theta_0+c)], color='red', alpha=0.5)\n",
    "x_left=np.linspace(xmin,theta_0-c,201)\n",
    "x_right=np.linspace(theta_0+c,xmax,201)\n",
    "ax2.fill_between(x_left, rv.pdf(x_left), alpha=0.75, facecolor='lightblue')\n",
    "ax2.fill_between(x_right, rv.pdf(x_right), alpha=0.75, facecolor='lightblue')\n",
    "ax.text(1,0.3,\"shaded area is the \\n probability that\\n $|W| \\geq \\\\alpha$ \")\n",
    "plt.axis('on')\n",
    "#ax.legend()\n",
    "\n",
    "plt.show()"
   ]
  },
  {
   "cell_type": "markdown",
   "id": "941398d1",
   "metadata": {},
   "source": [
    "We can carry out a similar analysis for the other cases.  Let's look at the one sided test based on the hypotheses\n",
    "\n",
    "$$\n",
    "H_0: \\theta \\le \\theta_0 \\\\ H_1: \\theta \\gt \\theta_0\n",
    "$$\n",
    "\n",
    "So what are we looking to control?  Since we are looking to control the type 1 error rate we want to have that for any $\\theta \\le \\theta_0$ we can find a bound on the following limit:\n",
    "\n",
    "$$\\underset{n\\to \\infty}{\\lim}\\mathbb{P}_{\\theta}\\left[ \\psi = 1 \\right] = \\underset{n\\to \\infty}{\\lim}\\mathbb{P}_{\\theta}\\left[ W \\gt q_{\\alpha} \\right] = \\underset{n\\to \\infty}{\\lim}\\mathbb{P}_{\\theta} \\left[ \\frac{\\hat{\\theta}-\\theta_0}{\\sqrt{\\widehat{\\text{var}}(\\hat{\\theta})}}\\gt q_\\alpha \\right]$$\n",
    "\n",
    "Where the reasoning is just as above: we want an asymptotic result, so we are takinng the limit as $n$ goes to $\\infty$ for our test.  That is the first expression in our chain of equalities.  Next we are substituting in the definition of our test $\\psi$. That is the second expression.  The third expression is just writing this out fully with the definition of our test statistic $W$.  Now, we would like that limit to converge to $\\alpha$ however we want that convergence to be true for all possible $\\theta$ that are in the null hypothesis region. Right now we have an expression that is calculating a probability for some $\\theta \\in (-\\infty, \\theta_0)=\\Theta_0$, but our estimator is only telling us asymtotic results relative to one value in $\\Theta_0$, $\\theta_0$. What we want is for the limit to converge for all $\\theta \\in \\Theta_0$. Let's work on that.\n",
    "\n",
    "If we chose some $\\theta \\lt \\theta_0$ then we can rewrite our $W$ statistic as\n",
    "\n",
    "$$\\frac{\\hat{\\theta}-\\theta_0}{\\sqrt{\\widehat{\\text{var}}(\\hat{\\theta})}}=\\frac{\\hat{\\theta}-\\theta}{\\sqrt{\\widehat{\\text{var}}(\\hat{\\theta})}} + \\frac{\\theta-\\theta_0}{\\sqrt{\\widehat{\\text{var}}(\\hat{\\theta})}}$$\n",
    "\n",
    "then the second term above will always be negative and thus we can transform our equality above into an inequality if we just look at the first term.\n",
    "\n",
    "$$\\frac{\\hat{\\theta}-\\theta_0}{\\sqrt{\\widehat{\\text{var}}(\\hat{\\theta})}}\\le\\frac{\\hat{\\theta}-\\theta}{\\sqrt{\\widehat{\\text{var}}(\\hat{\\theta})}} $$\n",
    "\n",
    "$$\\underset{n\\to \\infty}{\\lim}\\mathbb{P}_{\\theta}\\left[ \\psi = 1 \\right] \\le \\underset{n\\to \\infty}{\\lim}\\mathbb{P}_{\\theta}\\left[\\frac{\\hat{\\theta}-\\theta}{\\sqrt{\\widehat{\\text{var}}(\\hat{\\theta})}}\\gt q_\\alpha \\right]$$\n",
    "\n",
    "Where now we do not have an equality but an inequality since we are looking at something that is at least as large as what we previously had.  As we have seen the right hand side converges to a standard normal.  Thus we can write\n",
    "\n",
    "$$\\underset{n\\to \\infty}{\\lim}\\mathbb{P}_{\\theta}\\left[ \\psi = 1 \\right] \\le \\mathbb{P}_{\\theta}\\left[ Z \\gt q_\\alpha \\right] = \\alpha$$\n",
    "\n",
    "where $Z \\sim \\mathcal{N}(0,1)$"
   ]
  },
  {
   "cell_type": "code",
   "execution_count": 88,
   "id": "731a2f39",
   "metadata": {},
   "outputs": [
    {
     "data": {
      "image/png": "[encoded data removed]",
      "text/plain": [
       "<Figure size 432x72 with 1 Axes>"
      ]
     },
     "metadata": {
      "needs_background": "light"
     },
     "output_type": "display_data"
    }
   ],
   "source": [
    "# set up the figure\n",
    "fig, ax = plt.subplots(figsize=(6,1))\n",
    "ax.set_xlim(0,10)\n",
    "ax.set_ylim(-0.1,1)\n",
    "\n",
    "# name some important points on the line\n",
    "xmin = 0\n",
    "xmax = 9\n",
    "y = 0\n",
    "theta = 3\n",
    "theta_0 = 5\n",
    "\n",
    "# the fail to reject portion\n",
    "plt.plot(theta_0,y,'o',ms=10)\n",
    "plt.hlines(y, xmin, theta_0)\n",
    "plt.plot(theta,y, 'o', ms=10, mfc=\"w\")\n",
    "#plt.plot(theta_0 - c,y, 'o', ms=10, mfc=\"w\")\n",
    "\n",
    "# make rejection region line heavier weight\n",
    "plt.hlines(y,theta_0, xmax, lw=4)\n",
    "\n",
    "# label our parameter theta_0 and c\n",
    "plt.text(theta, y-0.35, r'$\\theta$', fontsize=14)\n",
    "plt.text(theta_0, y-0.35, r'$\\theta_0$', fontsize=14)\n",
    "#plt.text(theta_0+3,0.75,\"$\\psi$\")\n",
    "\n",
    "# Plot our test function\n",
    "x=[0,0,0,1,1,1,1,1,1,1]\n",
    "plt.plot(x,drawstyle=\"steps-post\",label=\"$\\psi(X_1,...,X_n)$\")\n",
    "\n",
    "plt.plot\n",
    "plt.axis('off')\n",
    "plt.show()"
   ]
  },
  {
   "cell_type": "markdown",
   "id": "7cce4d37",
   "metadata": {},
   "source": [
    "The argument for the third type of test where our null hypothesis is that $\\theta$ exceeds some value $\\theta_0$ is exactly the same.  The only change is that when we look at \n",
    "\n",
    "$$\\frac{\\hat{\\theta}-\\theta_0}{\\sqrt{\\widehat{\\text{var}}(\\hat{\\theta})}}=\\frac{\\hat{\\theta}-\\theta}{\\sqrt{\\widehat{\\text{var}}(\\hat{\\theta})}} + \\frac{\\theta-\\theta_0}{\\sqrt{\\widehat{\\text{var}}(\\hat{\\theta})}}$$\n",
    "we see that since $\\theta \\gt \\theta_0$ then $\\theta - \\theta_0 \\gt 0$ and hence our inequalities are reversed.\n",
    "\n",
    "So if \n",
    "\n",
    "$$H_0: \\theta \\ge \\theta_0 \\\\ H_1: \\theta \\lt \\theta_0$$\n",
    "\n",
    "That is we want to bound the following limit:\n",
    "\n",
    "$$\\underset{n\\to \\infty}{\\lim}\\mathbb{P}_{\\theta}\\left[ \\psi = 1 \\right] = \\underset{n\\to \\infty}{\\lim}\\mathbb{P}_{\\theta}\\left[ W \\lt q_{\\alpha} \\right] = \\underset{n\\to \\infty}{\\lim}\\mathbb{P}_{\\theta} \\left[ \\frac{\\hat{\\theta}-\\theta_0}{\\sqrt{\\widehat{\\text{var}}(\\hat{\\theta})}}\\lt q_\\alpha \\right]$$\n",
    "\n",
    "\n",
    "If we rewrite our $W$ statistic as\n",
    "\n",
    "$$\\frac{\\hat{\\theta}-\\theta_0}{\\sqrt{\\widehat{\\text{var}}(\\hat{\\theta})}}=\\frac{\\hat{\\theta}-\\theta}{\\sqrt{\\widehat{\\text{var}}(\\hat{\\theta})}} + \\frac{\\theta-\\theta_0}{\\sqrt{\\widehat{\\text{var}}(\\hat{\\theta})}}$$\n",
    "\n",
    "where $\\theta \\gt \\theta_0$ then the second term above will always be positive and thus if we just look at the first term we see that\n",
    "\n",
    "$$\\underset{n\\to \\infty}{\\lim}\\mathbb{P}_{\\theta}\\left[ \\psi = 1 \\right] \\ge \\underset{n\\to \\infty}{\\lim}\\mathbb{P}_{\\theta}\\left[\\frac{\\hat{\\theta}-\\theta}{\\sqrt{\\widehat{\\text{var}}(\\hat{\\theta})}}\\lt q_\\alpha \\right]$$\n",
    "\n",
    "Where now we do not have an equality but an inequality and we have that the right hand side converges to a standard normal.  Thus we can write\n",
    "\n",
    "$$\\underset{n\\to \\infty}{\\lim}\\mathbb{P}_{\\theta}\\left[ \\psi = 1 \\right] \\ge \\mathbb{P}_{\\theta}\\left[ Z \\lt q_\\alpha \\right] = \\alpha$$\n",
    "\n",
    "where $Z \\sim \\mathcal{N}(0,1)$"
   ]
  },
  {
   "cell_type": "code",
   "execution_count": 49,
   "id": "66968efd",
   "metadata": {},
   "outputs": [
    {
     "data": {
      "image/png": "[encoded data removed]",
      "text/plain": [
       "<Figure size 432x72 with 1 Axes>"
      ]
     },
     "metadata": {
      "needs_background": "light"
     },
     "output_type": "display_data"
    }
   ],
   "source": [
    "# set up the figure\n",
    "fig, ax = plt.subplots(figsize=(6,1))\n",
    "ax.set_xlim(0,10)\n",
    "ax.set_ylim(0,1)\n",
    "\n",
    "# name some important points on the line\n",
    "xmin = 0\n",
    "xmax = 9\n",
    "y = 0.1\n",
    "theta = 5\n",
    "theta_0 = 3\n",
    "\n",
    "# the fail to reject portion\n",
    "plt.plot(theta_0,y,'o',ms=10)\n",
    "plt.hlines(y, theta_0, xmax)\n",
    "plt.plot(theta,y, 'o', ms=10, mfc=\"w\")\n",
    "#plt.plot(theta_0 - c,y, 'o', ms=10, mfc=\"w\")\n",
    "\n",
    "# make rejection region line heavier weight\n",
    "plt.hlines(y,xmin, theta_0, lw=4)\n",
    "\n",
    "# label our parameter theta_0 and c\n",
    "plt.text(theta, y-0.35, r'$\\theta$', fontsize=14)\n",
    "plt.text(theta_0, y-0.35, r'$\\theta_0$', fontsize=14)\n",
    "#plt.text(theta_0+3,0.75,\"$\\psi$\")\n",
    "\n",
    "# Plot our test function\n",
    "x=[1,1,1,1,1,0.1,0.1,0.1,0.1,0.1]\n",
    "plt.plot(x,drawstyle=\"steps-post\",label=\"$\\psi(X_1,...,X_n)$\")\n",
    "\n",
    "plt.plot\n",
    "plt.axis('off')\n",
    "plt.show()"
   ]
  },
  {
   "cell_type": "markdown",
   "id": "52edbc84",
   "metadata": {},
   "source": [
    "we see that since $\\theta \\gt \\theta_0$ then $\\theta - \\theta_0 \\gt 0$ and hence our inequalities are reversed.\n",
    "\n",
    "So if \n",
    "\n",
    "$$H_0: \\theta \\ge \\theta_0 \\\\ H_1: \\theta \\lt \\theta_0$$\n",
    "\n",
    "That is we want to bound the following limit:\n",
    "\n",
    "$$\\underset{n\\to \\infty}{\\lim}\\mathbb{P}_{\\theta}\\left[ \\psi = 1 \\right] = \\underset{n\\to \\infty}{\\lim}\\mathbb{P}_{\\theta}\\left[ W \\lt q_{\\alpha} \\right] = \\underset{n\\to \\infty}{\\lim}\\mathbb{P}_{\\theta} \\left[ \\frac{\\hat{\\theta}-\\theta_0}{\\sqrt{\\widehat{\\text{var}}(\\hat{\\theta})}}\\lt q_\\alpha \\right]$$\n",
    "\n",
    "\n",
    "If we rewrite our $W$ statistic as\n",
    "\n",
    "$$\\frac{\\hat{\\theta}-\\theta_0}{\\sqrt{\\widehat{\\text{var}}(\\hat{\\theta})}}=\\frac{\\hat{\\theta}-\\theta}{\\sqrt{\\widehat{\\text{var}}(\\hat{\\theta})}} + \\frac{\\theta-\\theta_0}{\\sqrt{\\widehat{\\text{var}}(\\hat{\\theta})}}$$\n",
    "\n",
    "where $\\theta \\gt \\theta_0$ then the second term above will always be positive and thus if we just look at the first term we see that\n",
    "\n",
    "$$\\underset{n\\to \\infty}{\\lim}\\mathbb{P}_{\\theta}\\left[ \\psi = 1 \\right] \\ge \\underset{n\\to \\infty}{\\lim}\\mathbb{P}_{\\theta}\\left[\\frac{\\hat{\\theta}-\\theta}{\\sqrt{\\widehat{\\text{var}}(\\hat{\\theta})}}\\lt q_\\alpha \\right]$$\n",
    "\n",
    "Where now we do not have an equality but an inequality and we have that the right hand side converges to a standard normal.  Thus we can write\n",
    "\n",
    "$$\\underset{n\\to \\infty}{\\lim}\\mathbb{P}_{\\theta}\\left[ \\psi = 1 \\right] \\ge \\mathbb{P}_{\\theta}\\left[ Z \\lt q_\\alpha \\right] = \\alpha$$\n",
    "\n",
    "where $Z \\sim \\mathcal{N}(0,1)$"
   ]
  },
  {
   "cell_type": "markdown",
   "id": "e2fc39de",
   "metadata": {},
   "source": [
    "### The p-value of the Wald Test\n",
    "\n",
    "The setup is as follows:  We have a statement that \"more than 2/3 of Americans get news on social media\".  We want to test this statement.  The experiment we conduct is we sample the population and get $X_1,\\dots,X_n$ independent samples to a yes/no question \"Do you get some of your news on social media?\".  Thus we have $n$ observations that are $\\overset{\\text{iid}}{\\sim} \\text{Ber}(p), p\\in (0,1)$.  We set up our hypothesis as follows:\n",
    "\n",
    "$$H_0: p \\le 2/3$$\n",
    "$$H_1: p \\gt 2/3$$\n",
    "\n",
    "Since what we are taking as the status quo AKA the null hypothesis is that less than 2/3 of Americans get their news on social media, and we are looking for evidence that this ratio is actually larger than 2/3. Suppose we have some data based on $n=4,581$ subjects that the estimator $\\hat{p} = 0.68$  Notice that this value is larger than $2/3$ but we want to determine if it is statistically significant that it is larger than $2/3$.  That is we are asking the question: \"what is the probability that what we have observed is not due to random fluctuations in our experimnet but rather the true mean is actually greater than $2/3$.\n",
    "\n",
    "To assess this we are going to use the Wald statistic which we can calculate as:\n",
    "\n",
    "$$W_{\\text{obs}}=\\sqrt{n}\\frac{\\hat{p}-p_0}{\\sqrt{\\hat{p}(1-\\hat{p})}}=\\sqrt{4,581}\\left( \\frac{0.68-2/3}{\\sqrt{0.68(0.32)}}\\right)=1.93$$\n",
    "\n",
    "So, do we reject the null hypothesis or do we fail to reject the null hypothesis?  Since our Wald Statistic is asymptoticaly normal, and assuming a 5% level for our one sided test, our test statistic is larger than the 5% quantile of $\\approx 1.645$ and that means that we should reject the null hypothesis based on our data."
   ]
  },
  {
   "cell_type": "code",
   "execution_count": 293,
   "id": "65f8cef3",
   "metadata": {},
   "outputs": [
    {
     "data": {
      "image/png": "[encoded data removed]",
      "text/plain": [
       "<Figure size 432x216 with 2 Axes>"
      ]
     },
     "metadata": {
      "needs_background": "light"
     },
     "output_type": "display_data"
    }
   ],
   "source": [
    "fig, ax = plt.subplots(figsize=(6,3))\n",
    "xmin=norm.ppf(0.6)\n",
    "xmax=norm.ppf(0.999)\n",
    "ax.set_xlim(xmin,xmax)\n",
    "\n",
    "plt.yticks(ticks=[0,1])\n",
    "ax.set_ylabel(\"Reject\")\n",
    "\n",
    "# name some important points on the line\n",
    "p_0 = 2/3\n",
    "alpha = norm.ppf(0.95) # 5% level, one sided\n",
    "w_observed = 1.93\n",
    "\n",
    "# the fail to reject portion\n",
    "plt.hlines(0,xmin,alpha, lw=2)\n",
    "# make rejection region line heavier weight\n",
    "plt.hlines(0, alpha, xmax, lw=4)\n",
    "\n",
    "# Plot our test function\n",
    "ax.step([0,alpha,xmax],[0,0,1],drawstyle=\"steps-post\",label=\"$\\psi(X_1,...,X_n)$\", alpha=0.5)\n",
    "# label our test function\n",
    "#plt.text(1.1*alpha,0.9,\"$\\psi$\")\n",
    "\n",
    "# plot our normal dist with different y axis\n",
    "# x values for the normal plot.\n",
    "ax2 = ax.twinx()\n",
    "x = np.linspace(xmin, xmax, 201)\n",
    "ax2.plot(x, norm.pdf(x), label=('$\\mathcal{N}(0,1)$'))\n",
    "ax2.set_ylabel(\"Probability\")\n",
    "\n",
    "# mark the start of our rejection region\n",
    "ax2.vlines(x=[alpha], ymin=[0], ymax=[norm.pdf(alpha)], color='red', alpha=0.5)\n",
    "# shade the rejection region\n",
    "x_right=np.linspace(alpha,xmax,201)\n",
    "ax2.fill_between(x_right, norm.pdf(x_right), alpha=0.75, facecolor='lightblue')\n",
    "\n",
    "# mark where our observed statistic lies.\n",
    "ax2.vlines(x=[w_observed], ymin=[0], ymax=[norm.pdf(w_observed)], color='green', alpha=0.5)\n",
    "# hatch the p-value\n",
    "x_hatch=np.linspace(w_observed,xmax,201)\n",
    "ax2.fill_between(x_hatch, norm.pdf(x_hatch),alpha=0.75, facecolor='lightblue', hatch='///')\n",
    "\n",
    "plt.xticks(ticks=[0,alpha, w_observed],labels=[r'$0$',r'$q_{\\alpha}$',r\"$W^{obs}$\"])\n",
    "\n",
    "plt.axis('on')\n",
    "ax.spines['left'].set_visible(False)\n",
    "plt.legend()\n",
    "\n",
    "plt.show()"
   ]
  },
  {
   "cell_type": "markdown",
   "id": "7ee96cce",
   "metadata": {},
   "source": [
    "Now, what is the asymptotic p-value for this test?  By definition it is the smallest level $\\alpha$ for which I will reject the null hypothesis under this test.  To compute this we can do the following:"
   ]
  },
  {
   "cell_type": "code",
   "execution_count": 180,
   "id": "9c201f85",
   "metadata": {},
   "outputs": [
    {
     "name": "stdout",
     "output_type": "stream",
     "text": [
      "the p-value is approx.: 0.0268 \n"
     ]
    }
   ],
   "source": [
    "p_value=(1-norm.cdf(1.93))\n",
    "print('the p-value is approx.: %.4f ' %p_value)"
   ]
  },
  {
   "cell_type": "markdown",
   "id": "6734441d",
   "metadata": {},
   "source": [
    "So what is this telling us?  For one thing it tells us that we will fail to reject the null hypothesis if we are testing at asymptotic level $1\\%$ and at level $2\\%$.  It also tells us that based on our evidence scale we have strong evidence that the true proportion of people who get their news on social media is at least $2/3$.\n",
    "\n",
    "Also notice that what if we were to know the actual distribution of the Wald statistic, then the p-value is just the probability that the test statistic is larger than what we observed:  $\\mathbb{P}_{\\theta_0}(|W|\\gt W^{\\text{obs}})$.  If we do not have in hand the distribution of our test statistic, then we can get asymptotic p-values from a Normal table.  We can summarize this by the following:\n",
    "\n",
    "If we denote our test by\n",
    "\n",
    "$$W:=\\frac{\\hat{\\theta} - \\theta_0}{\\sqrt{\\widehat{\\text{var}}(\\hat{\\theta})}}$$\n",
    "\n",
    "and if we denote by $W^{\\text{obs}}$ the observed value of our test statistic then p-values and asymptotic p-values are given by\n",
    "\n",
    "$$\n",
    "\\begin{array}{r|c|c|c}\n",
    "&\n",
    "\\begin{array}{c}H_0: \\theta = \\theta_0 \\\\ H_1: \\theta \\ne \\theta_0\\end{array} &\n",
    "\\begin{array}{c}H_0: \\theta \\le \\theta_0 \\\\ H_1: \\theta \\gt \\theta_0\\end{array} &\n",
    "\\begin{array}{c}H_0: \\theta \\ge \\theta_0 \\\\ H_1: \\theta \\lt \\theta_0\\end{array} &   \\\\\n",
    "\\hline\n",
    "\\text{Wald Test: } \\psi&\\mathbb{1}\\{|W|\\gt q_{\\alpha/2}\\}&\\mathbb{1}\\{ W \\gt q_\\alpha\\}&\\mathbb{1}\\{ W \\lt q_\\alpha\\} \\\\\n",
    "\\hline\n",
    "\\text{p-value}&\\mathbb{P}(|W|\\gt |W^{\\text{obs}}|)&\\mathbb{P}( W \\gt W^{\\text{obs}})&\\mathbb{P}( W \\lt W^{\\text{obs}}) \\\\\n",
    "\\hline\n",
    "\\text{asymptotic p-value}&\\mathbb{P}(|X|\\gt |W^{\\text{obs}}|)&\\mathbb{P}(X \\gt W^{\\text{obs}})&\\mathbb{P}( X \\lt W^{\\text{obs}}) \\\\\n",
    "\\end{array}\n",
    "$$\n",
    "\n",
    "where $X {\\sim}\\mathcal{N}(0,1)$\n",
    "\n",
    "In many cases we will not have in hand the actual distribution of $W$, but we will have the asymptotic results. Here are a few examples of the calculations."
   ]
  },
  {
   "cell_type": "markdown",
   "id": "7783618a",
   "metadata": {},
   "source": [
    "##### Examples:\n",
    "\n",
    "In each of the following compute the p-value.\n",
    "\n",
    "1) Let our hypotheses be:  \n",
    "\n",
    "$$H_0: p\\le 0.5$$\n",
    "$$H_1: p \\gt 0.5$$\n",
    "\n",
    "With an observed value of our Wald Statistc $W^{\\text{obs}}=1.72$"
   ]
  },
  {
   "cell_type": "code",
   "execution_count": 299,
   "id": "33cd0658",
   "metadata": {},
   "outputs": [
    {
     "name": "stdout",
     "output_type": "stream",
     "text": [
      "0.043\n"
     ]
    },
    {
     "data": {
      "image/png": "[encoded data removed]",
      "text/plain": [
       "<Figure size 432x216 with 2 Axes>"
      ]
     },
     "metadata": {
      "needs_background": "light"
     },
     "output_type": "display_data"
    }
   ],
   "source": [
    "fig, ax = plt.subplots(figsize=(6,3))\n",
    "xmin=norm.ppf(0.9)\n",
    "xmax=norm.ppf(0.99)\n",
    "ax.set_xlim(xmin,xmax)\n",
    "\n",
    "plt.yticks(ticks=[0,1])\n",
    "ax.set_ylabel(\"Reject\")\n",
    "\n",
    "# name some important points on the line\n",
    "w_obs = 1.72\n",
    "prob = (1 - norm.cdf(w_obs))\n",
    "print(\"%.3f\" %prob)\n",
    "p_0 = 2/3\n",
    "alpha = norm.ppf(0.95) # 5% level, one sided\n",
    "\n",
    "# the fail to reject portion\n",
    "plt.hlines(0,xmin,alpha, lw=2)\n",
    "# make rejection region line heavier weight\n",
    "plt.hlines(0, alpha, xmax, lw=4)\n",
    "\n",
    "# Plot our test function\n",
    "ax.step([0,alpha,xmax],[0,0,1],drawstyle=\"steps-post\",label=\"$\\psi(X_1,...,X_n)$\", alpha=0.5)\n",
    "# label our test function\n",
    "#plt.text(1.1*alpha,0.9,\"$\\psi$\")\n",
    "\n",
    "# plot our normal dist with different y axis\n",
    "# x values for the normal plot.\n",
    "ax2 = ax.twinx()\n",
    "x = np.linspace(xmin, xmax, 201)\n",
    "ax2.plot(x, norm.pdf(x), label=('$\\mathcal{N}(0,1)$'))\n",
    "ax2.set_ylabel(\"Probability\")\n",
    "\n",
    "# mark the start of our rejection region\n",
    "ax2.vlines(x=[alpha], ymin=[0], ymax=[norm.pdf(alpha)], color='red', alpha=0.5)\n",
    "# shade the rejection region\n",
    "x_right=np.linspace(alpha,xmax,201)\n",
    "ax2.fill_between(x_right, norm.pdf(x_right), alpha=0.75, facecolor='lightblue')\n",
    "\n",
    "# mark where our observed statistic lies.\n",
    "ax2.vlines(x=[w_obs], ymin=[0], ymax=[norm.pdf(w_obs)], color='green', alpha=0.5)\n",
    "# hatch the p-value\n",
    "x_hatch=np.linspace(w_obs,xmax,201)\n",
    "ax2.fill_between(x_hatch, norm.pdf(x_hatch),alpha=0.75, facecolor='lightblue', hatch='///')\n",
    "\n",
    "plt.xticks(ticks=[alpha, w_obs],labels=[r'$q_{\\alpha}$',r\"$W^{obs}$\"])\n",
    "\n",
    "plt.axis('on')\n",
    "ax.spines['left'].set_visible(False)\n",
    "#plt.legend()\n",
    "\n",
    "plt.show()\n"
   ]
  },
  {
   "cell_type": "markdown",
   "id": "c5b97cb4",
   "metadata": {},
   "source": [
    "2) Let our hypoteses be:\n",
    "\n",
    "$$H_0: p = 0.5$$\n",
    "$$H_1: p \\lt 0.5$$\n",
    "\n",
    "With an observed value of our Wald Statistc $W^{\\text{obs}}=-1.06$"
   ]
  },
  {
   "cell_type": "code",
   "execution_count": 114,
   "id": "ad86727c",
   "metadata": {},
   "outputs": [
    {
     "name": "stdout",
     "output_type": "stream",
     "text": [
      "0.145\n"
     ]
    }
   ],
   "source": [
    "w_obs = -1.06\n",
    "prob = (norm.cdf(-abs(w_obs)))\n",
    "print(\"%.3f\" %prob)"
   ]
  },
  {
   "cell_type": "markdown",
   "id": "da90e5a3",
   "metadata": {},
   "source": [
    "3) Let our hypoteses be:\n",
    "\n",
    "$$H_0: \\theta \\ge 2$$\n",
    "$$H_1: \\theta \\lt 2$$\n",
    "\n",
    "With an observed value of our Wald Statistc $W^{\\text{obs}}=-2.14$"
   ]
  },
  {
   "cell_type": "code",
   "execution_count": 115,
   "id": "f3cc12c3",
   "metadata": {},
   "outputs": [
    {
     "name": "stdout",
     "output_type": "stream",
     "text": [
      "0.016\n"
     ]
    }
   ],
   "source": [
    "w_obs = -2.14\n",
    "prob = (norm.cdf(w_obs))\n",
    "print(\"%.3f\" %prob)"
   ]
  },
  {
   "cell_type": "markdown",
   "id": "e16c3f00",
   "metadata": {},
   "source": [
    "4) Let our hypoteses be:\n",
    "\n",
    "$$H_0: \\theta \\le 0$$\n",
    "$$H_1: \\theta \\gt 0$$\n",
    "\n",
    "With an observed value of our Wald Statistc $W^{\\text{obs}}=0.07$"
   ]
  },
  {
   "cell_type": "code",
   "execution_count": 117,
   "id": "bf3105e1",
   "metadata": {},
   "outputs": [
    {
     "name": "stdout",
     "output_type": "stream",
     "text": [
      "0.472\n"
     ]
    }
   ],
   "source": [
    "w_obs = 0.07\n",
    "prob = 1 - (norm.cdf(w_obs))\n",
    "print(\"%.3f\" %prob)"
   ]
  },
  {
   "cell_type": "markdown",
   "id": "65c8567c",
   "metadata": {},
   "source": [
    "5) Let our hypoteses be:\n",
    "\n",
    "$$H_0: \\lambda \\ge 1$$\n",
    "$$H_1: \\lambda \\lt 1$$\n",
    "\n",
    "With an observed value of our Wald Statistc $W^{\\text{obs}}=-3.07$"
   ]
  },
  {
   "cell_type": "code",
   "execution_count": 118,
   "id": "904f99cf",
   "metadata": {},
   "outputs": [
    {
     "name": "stdout",
     "output_type": "stream",
     "text": [
      "0.001\n"
     ]
    }
   ],
   "source": [
    "w_obs = -3.07\n",
    "prob = norm.cdf(-abs(w_obs))\n",
    "print(\"%.3f\" %prob)"
   ]
  },
  {
   "cell_type": "markdown",
   "id": "58ce16bf",
   "metadata": {},
   "source": [
    "#### Kiss Example:\n",
    "The set up is $X_1,\\dots,X_n\\overset{\\text{iid}}{\\sim}\\text{Ber}(p)$.  We are testing\n",
    "\n",
    "$$H_0: p = 0.5$$\n",
    "$$H_1: p \\ne 0.5$$\n",
    "\n",
    "We observe 124 couples and observe $\\bar{X}_n = 0.645$ What is the asymptotic p-value of the Wald test?"
   ]
  },
  {
   "cell_type": "code",
   "execution_count": 132,
   "id": "c59168c0",
   "metadata": {},
   "outputs": [
    {
     "name": "stdout",
     "output_type": "stream",
     "text": [
      "W observed ~ 3.374\n",
      "p-value ~ 0.001\n"
     ]
    }
   ],
   "source": [
    "p_0=0.5\n",
    "n = 124\n",
    "x_bar_n = 0.645\n",
    "w_obs = (n**0.5)*((x_bar_n - p_0)/((x_bar_n*(1-x_bar_n))**0.5))\n",
    "print('W observed ~ %.3f' %w_obs)\n",
    "prob = 2*(norm.cdf(-abs(w_obs)))\n",
    "print(\"p-value ~ %.3f\" %prob)"
   ]
  },
  {
   "cell_type": "markdown",
   "id": "d10bbc4e",
   "metadata": {},
   "source": [
    "### Example 2:  How to board a plane?\n",
    "\n",
    "There are a number of strategies that are possible for boarding a plane.  One method is to board from the rear of the aircraft to the front (R2F).  Another method is to board in order of window seats first, then middle seats, and finally aisle seats (WilMA).  The question is: \"Is there a differnce in the boarding times?\".\n",
    "\n",
    "We begin by developing a statistical model.  Let $X$ denote the boarding time of a random R2F flight and let $Y$ denote the boarding time of a random WilMA flight.  We will be using the Wald test and by implication the Central Limit Theorem, so we only need to know the mean and standard deviation of those two different methods.\n",
    "\n",
    "$$\\mathbb{E}[X]=\\mu_1, \\text{var}[X]=\\sigma^2_1$$\n",
    "$$\\mathbb{E}[Y]=\\mu_2, \\text{var}[Y]=\\sigma^2_2$$\n",
    "\n",
    "We collect samples for both types of boarding methods to get our data $X_1,\\dots,X_n$ and $Y_1,\\dots,Y_m$. And we futher assume that the samples are independent.\n",
    "\n",
    "Our question is translated into a hypothesis statement where we use as the status quo, or null hypothesis, that there is no difference in mean boarding times:\n",
    "\n",
    "$$H_0: \\mu_1 = \\mu_2$$\n",
    "$$H_1: \\mu_1 \\ne \\mu_2$$\n",
    "\n",
    "We have not seen anything yet that would let us compare two means, but, since we have have assumed that the two samples are independen then we can take linear combinations of the two means and state the hypothesis in this form:\n",
    "\n",
    "Let $\\theta = \\mu_1 - \\mu_2$\n",
    "\n",
    "$$H_0: \\theta = 0$$\n",
    "$$H_1: \\theta \\ne 0$$\n",
    "\n",
    "We call this sort of a testing problem a _two sample_ testing problem.\n",
    "\n",
    "What do we need to do to apply the Wald test?  We first need an estimator for our parameter of interest, $\\theta$, that is asymptotically normal.  The law of large numbers directs us to use averages as an estimator of the mean so we are lead to define our estimator $\\hat{\\theta}$ to be $\\bar{X}_n - \\bar{Y}_m$.  So at this point our Wald test statistic would look like\n",
    "\n",
    "$$\\frac{\\hat{\\theta} - \\theta_0}{\\sqrt{\\text{var}(\\hat{\\theta})}}\\overset{\\text{(d)}}{\\underset{n \\to \\infty}{\\longrightarrow}}\\mathcal{N}(0,1)$$\n",
    "\n",
    "So we are on our way to having a Wald test except that we need to have a way of estimating the varriance of $\\hat{\\theta}$.  What do we know?  We know that by how we have defined our quantities that\n",
    "\n",
    "$$\\text{var}(\\hat{\\theta})=\\text{var}(\\hat{\\mu}_1 - \\hat{\\mu}_2)=\\text{var}(\\bar{X}_n - \\bar{Y}_m)$$\n",
    "\n",
    "But since the $X_i$ are independent from the $Y_i$, that implies that the right hand side can be written as\n",
    "\n",
    "$$\\text{var}(\\bar{X}_n - \\bar{Y}_m) = \\text{var}(\\bar{X}_n) + \\text{var}(-\\bar{Y}_m)=\\text{var}(\\bar{X}_n) + \\text{var}(\\bar{Y}_m)$$\n",
    "\n",
    "since the variance of a sum of independent random variables is the sum of the variances, and we can take the square of a constant outside of the variance which gets rid of the negative sign.  Now we are in a better position.  At least we know how to compute the variance of our estimators:\n",
    "\n",
    "$$\\text{var}(\\bar{X}_n) + \\text{var}(\\bar{Y}_m)=\\frac{\\sigma^2_1}{n} + \\frac{\\sigma^2_2}{m}$$\n",
    "\n",
    "But we are not out of the woods yet.  We do not know what $\\sigma^2_1$ or $\\sigma^2_2$ are.  However we can estimate them.  From the definition of variance we have for example:\n",
    "\n",
    "$$\\sigma^2_1=\\mathbb{E}[X-\\mathbb{E}[X]^2]$$\n",
    "\n",
    "Since we are assuming that the $X_i$ are i.i.d. This lets us define\n",
    "\n",
    "$$\\hat{\\sigma}^2_1:=\\frac{1}{n}\\sum^{n}_{i=1}(X_i - \\bar{X}_n)^2$$\n",
    "$$\\hat{\\sigma}^2_2:=\\frac{1}{m}\\sum^{m}_{i=1}(Y_i - \\bar{Y}_m)^2$$\n",
    "\n",
    "Both of these are consistent estimators.  We get an estimator of $\\text{var}(\\hat{\\theta})$ defined as\n",
    "\n",
    "$$\\widehat{\\text{var}}(\\hat{\\theta})= \\frac{\\hat{\\sigma}^2_1}{n} + \\frac{\\hat{\\sigma}^2_2}{m}$$\n",
    "\n",
    "and thus by using Slutsky's theorem we get \n",
    "\n",
    "$$\\frac{\\hat{\\theta} - \\theta_0}{\\sqrt{\\widehat{\\text{var}}(\\hat{\\theta})}} =\n",
    "    \\frac{\\hat{\\theta} - \\theta_0}{\\sqrt{\\frac{\\hat{\\sigma}^2_1}{n} + \\frac{\\hat{\\sigma}^2_2}{m}}}\n",
    "    \\underset{\\substack{n\\to \\infty\\\\m \\to \\infty}}{\\overset{\\text{(d)}}{\\longrightarrow}}\\mathcal{N}(0,1)$$\n",
    "\n",
    "\n"
   ]
  },
  {
   "cell_type": "markdown",
   "id": "eb73d68d",
   "metadata": {},
   "source": [
    "Now let's build our test.  We have our test statistic\n",
    "\n",
    "$$W=\\frac{\\hat{\\theta} - 0}{\\sqrt{\\frac{\\hat{\\sigma}^2_1}{m} + \\frac{\\hat{\\sigma}^2_2}{m}}}$$\n",
    "\n",
    "What will lead us to reject the null hypothesis?  If my test statistic is far away from zero so we can write that as\n",
    "\n",
    "$$\\psi = \\mathbb{1}\\lbrace |W|\\gt q_{\\alpha/2}\\rbrace$$\n",
    "\n",
    "And suppose that we are looking at an asymptotic level of $5\\%$.\n",
    "\n",
    "Now let's look at some data.  Suppose that we are given the following data:\n",
    "\n",
    "$$\n",
    "\\begin{array}{r|c|c}\n",
    "& \\text{R2F} & \\text{WilMA}\\\\\n",
    "\\hline\n",
    "\\text{Average (minutes)}& 24.2 & 25.9\\\\\n",
    "\\hline\n",
    "\\text{Standard Deviation (minutes)}& 5.1 & 4.3\\\\\n",
    "\\hline\n",
    "\\text{Sample size}& 72 & 56\\\\\n",
    "\\end{array}\n",
    "$$\n",
    "\n",
    "We compute our statistic:\n",
    "\n",
    "$$W = \\frac{24.2 - 25.9}{\\sqrt{\\frac{5.1^2}{72} + \\frac{4.3^2}{56}}}=-2.04$$\n",
    "\n",
    "What is this telling us?  It looks like the boarding time for R2F is faster than for WilMA, but is this difference in times significant, statisticaly or could it just be an effect of random chance in our samples?  How we determine that is by looking at our rejection region $|W|\\gt q_{\\alpha/2}$ where here we have that for a 5% two sided test $q_{\\alpha/2} = 1.96$ and sure enough, 2.04 is larger than 1.96.  The picure is like the following:"
   ]
  },
  {
   "cell_type": "code",
   "execution_count": 209,
   "id": "419f6061",
   "metadata": {},
   "outputs": [
    {
     "data": {
      "image/png": "[encoded data removed]",
      "text/plain": [
       "<Figure size 432x216 with 2 Axes>"
      ]
     },
     "metadata": {
      "needs_background": "light"
     },
     "output_type": "display_data"
    }
   ],
   "source": [
    "fig, ax = plt.subplots(figsize=(6,3))\n",
    "xmin=norm.ppf(0.001)\n",
    "xmax=norm.ppf(0.999)\n",
    "ax.set_xlim(xmin,xmax)\n",
    "\n",
    "plt.yticks(ticks=[0,1])\n",
    "ax.set_ylabel(\"Reject\")\n",
    "\n",
    "# name some important points on the line\n",
    "q_a = norm.ppf(0.975) # 5% level, two sided\n",
    "w_obs = -2.04\n",
    "\n",
    "# the fail to reject portion\n",
    "plt.hlines(0,-q_a, q_a, lw=2)\n",
    "# make rejection region line heavier weight\n",
    "plt.hlines(0, xmin, -q_a, lw=4)\n",
    "plt.hlines(0,q_a, xmax, lw=4)\n",
    "\n",
    "# Plot our test function\n",
    "ax.step([xmin,-q_a, q_a,xmax],[1,1,0,1],\n",
    "        drawstyle=\"steps-post\",\n",
    "        label=\"$\\psi(X_1,\\dots,X_n, Y_1,\\dots,Y_m)$\", \n",
    "        alpha=0.5,\n",
    "       color=\"red\")\n",
    "\n",
    "# plot our normal dist with different y axis\n",
    "# x values for the normal plot.\n",
    "ax2 = ax.twinx()\n",
    "x = np.linspace(xmin, xmax, 201)\n",
    "ax2.plot(x, norm.pdf(x), label=('$\\mathcal{N}(0,1)$'))\n",
    "ax2.set_ylabel(\"Probability\")\n",
    "\n",
    "# mark the rejection region\n",
    "ax2.vlines(x=[-q_a,q_a], ymin=[0,0], ymax=[norm.pdf(-q_a),norm.pdf(q_a)], color='red', alpha=0.5)\n",
    "# shade the rejection region\n",
    "x_left=np.linspace(xmin,-q_a,201)\n",
    "x_right=np.linspace(q_a,xmax,201)\n",
    "ax2.fill_between(x_left, norm.pdf(x_left), alpha=0.75, facecolor='lightblue')\n",
    "ax2.fill_between(x_right, norm.pdf(x_right), alpha=0.75, facecolor='lightblue')\n",
    "\n",
    "# mark where our observed statistic lies.\n",
    "ax2.vlines(x=[w_obs], ymin=[0], ymax=[norm.pdf(w_obs)], color='green', alpha=0.5)\n",
    "# hatch the p-value\n",
    "#x_hatch=np.linspace(w_observed,xmax,201)\n",
    "#ax2.fill_between(x_hatch, norm.pdf(x_hatch),alpha=0.75, facecolor='lightblue', hatch='///')\n",
    "\n",
    "plt.xticks(ticks=[0,alpha, w_obs],labels=[r'$0$',r'$q_{\\alpha/2}$',r\"$W^{obs}$\"])\n",
    "\n",
    "\n",
    "plt.show()"
   ]
  },
  {
   "cell_type": "markdown",
   "id": "3f7663bb",
   "metadata": {},
   "source": [
    "We have a bit more information than this though.  What is the p-value for this test?  We want to compute the area of the hatched section(s):"
   ]
  },
  {
   "cell_type": "code",
   "execution_count": 233,
   "id": "43c290a4",
   "metadata": {},
   "outputs": [
    {
     "data": {
      "image/png": "[encoded data removed]",
      "text/plain": [
       "<Figure size 432x216 with 2 Axes>"
      ]
     },
     "metadata": {
      "needs_background": "light"
     },
     "output_type": "display_data"
    },
    {
     "name": "stdout",
     "output_type": "stream",
     "text": [
      "p-value: 0.0414 is equal to the area of the parts indicated with a hashed background\n"
     ]
    }
   ],
   "source": [
    "fig, ax = plt.subplots(figsize=(6,3))\n",
    "xmin=norm.ppf(0.001)\n",
    "xmax=norm.ppf(0.999)\n",
    "ax.set_xlim(xmin,xmax)\n",
    "\n",
    "plt.yticks(ticks=[0,1])\n",
    "ax.set_ylabel(\"Reject\")\n",
    "\n",
    "# name some important points on the line\n",
    "q_a = norm.ppf(0.975) # 5% level, two sided\n",
    "w_obs = -2.04\n",
    "\n",
    "# the fail to reject portion\n",
    "#plt.hlines(0,-q_a, q_a, lw=2)\n",
    "# make rejection region line heavier weight\n",
    "#plt.hlines(0, xmin, -q_a, lw=4)\n",
    "#plt.hlines(0,q_a, xmax, lw=4)\n",
    "\n",
    "# Plot our test function\n",
    "#ax.step([xmin,-q_a, q_a,xmax],[1,1,0,1],\n",
    "#        drawstyle=\"steps-post\",\n",
    "#        label=\"$\\psi(X_1,\\dots,X_n, Y_1,\\dots,Y_m)$\", \n",
    "#        alpha=0.5,\n",
    "#       color=\"red\")\n",
    "\n",
    "# plot our normal dist with different y axis\n",
    "# x values for the normal plot.\n",
    "ax2 = ax.twinx()\n",
    "x = np.linspace(xmin, xmax, 201)\n",
    "ax2.plot(x, norm.pdf(x), label=('$\\mathcal{N}(0,1)$'))\n",
    "ax2.set_ylabel(\"Probability\")\n",
    "\n",
    "# mark the rejection region\n",
    "ax2.vlines(x=[-q_a,q_a], ymin=[0,0], ymax=[norm.pdf(-q_a),norm.pdf(q_a)], color='red', alpha=0.5)\n",
    "# shade the rejection region\n",
    "x_left=np.linspace(xmin,-q_a,201)\n",
    "x_right=np.linspace(q_a,xmax,201)\n",
    "ax2.fill_between(x_left, norm.pdf(x_left), alpha=0.75, facecolor='lightblue')\n",
    "ax2.fill_between(x_right, norm.pdf(x_right), alpha=0.75, facecolor='lightblue')\n",
    "\n",
    "# mark where our observed statistic lies.\n",
    "ax2.vlines(x=[w_obs], ymin=[0], ymax=[norm.pdf(w_obs)], color='green', alpha=0.5)\n",
    "\n",
    "# hatch the p-value\n",
    "x_hatch_left = np.linspace(xmin, w_obs,201)\n",
    "x_hatch_right = np.linspace(-w_obs,xmax,201)\n",
    "ax2.fill_between(x_hatch_left, norm.pdf(x_hatch_left),alpha=0.75, facecolor='lightblue', hatch='///')\n",
    "ax2.fill_between(x_hatch_right, norm.pdf(x_hatch_right),alpha=0.75, facecolor='lightblue', hatch='///')\n",
    "\n",
    "plt.xticks(ticks=[0,alpha, w_obs],labels=[r'$0$',r'$q_{\\alpha/2}$',r\"$W^{obs}$\"])\n",
    "plt.show()\n",
    "p_value = 2*(norm.cdf(w_obs))\n",
    "print(f'p-value: %.4f is equal to the area of the parts indicated with a hashed background' %p_value)"
   ]
  },
  {
   "cell_type": "markdown",
   "id": "704f88f6",
   "metadata": {},
   "source": [
    "So with a p-value of 0.0414 we see that we have strong evidence that the R2F method is in fact the faster boarding method on average.  We should be a bit careful here though.  The p-value is very close to the level of our test which means that we would fail to reject the null hypothesis if we asked for the level of the test to be just slightly lower.  For example if we had a level of 4%, then we would fail to reject the null hypothesis."
   ]
  },
  {
   "cell_type": "markdown",
   "id": "5bad3bdd",
   "metadata": {},
   "source": [
    "#### Example 3:  Waiting times.\n",
    "\n",
    "The set up here is we have samples that are from an exponential distribution with parameter $\\lambda$.  They represent a waiting time.  We assume that the observations are independent and all from the same distribution.  So we have $X_1,\\dots,X_n \\overset{\\text{iid}}{\\sim}\\text{Exp}(\\lambda)$.  Suppose that we want to test if the waiting time is less than or greater than one minute.  We set up our hypothesis this way:\n",
    "\n",
    "$$H_0: \\lambda \\ge 1$$\n",
    "$$H_1: \\lambda \\lt 1$$\n",
    "\n",
    "So what are these saying?  The null hypothesis is that $\\lambda \\ge 1$ so that is saying that the waiting time is less than 1 (minute), and the alternate hypothesis is that the waiting time is longer than 1 (minute) (since the waiting time is $1/\\lambda$).\n",
    "\n",
    "Recall that by using the Delta-method we were able to show that an unbiased estimator for $\\lambda$ was given by $\\hat{\\lambda} = 1/\\bar{X}_n$.  Also we showed that we have the following asymptotic normality\n",
    "\n",
    "$$\\sqrt{n}(\\hat{\\lambda} - \\lambda) \\overset{\\text{(d)}}{\\underset{n \\to \\infty}{\\longrightarrow}}\\mathcal{N}(0,\\lambda^2)$$\n",
    "\n",
    "But this is not quite what we want yet to apply the Wald test. We need to have something that converges to $\\mathcal{N}(0,1)$ and to get that we would have to divide both sides by $\\lambda$, and even then we have an unknown value $\\lambda$. The usual trick is to use an estimator and then apply Slutsky's.\n",
    "\n",
    "$$\\sqrt{n}\\frac{\\hat{\\lambda} - \\lambda}{\\hat{\\lambda}}$$\n",
    "\n",
    "Which is close to what we need, but we need to make sure that we are setting up the test to be as conservative as possible about rejecting the null hypothesis.  So what value should $\\lambda$ have in order to ensure that we make as few type 1 errors as possible? Since this is a one sided test we can take our cutoff parameter to be the smallest value that $\\lambda$ can take under the null hypothesis. The values that $\\lambda$ can take are $\\lambda \\ge 1$ so that means if we take on the edge case value $1$.\n",
    "\n",
    "#### asside \n",
    "One way to reason about what value of $\\lambda$ to use is to consider how the test statistic is created.  $W$ is created by looking at the mean value that our data takes, $\\hat{\\lambda}$, then centering that data by subtracting a value that the true parameter could take under the null hypothesis, $\\hat{\\lambda} - \\lambda$,  and rescaling that difference by the standard deviation in our data, $\\sqrt{\\widehat{\\text{var}}(\\hat{\\lambda})}$. We want to choose the value that the true parameter could take under the null hypothesis in such a way that we are least likely to reject the null hypothesis on any possible data that we might see. That is we want to choose a value for $\\lambda$ in our null hypothesis region so that no matter what data we see we have the lowest probability of rejecting the null hypothesis.  That is what it means to be conservative, and is the content of the Neyman-Pearson appoach.  We want to give as much advantage as possible to the null hypothesis and in doing so we will be sure that any data we see that suggests rejecting the null hypothesis will also reject the null hypothesis for any value of $\\lambda$ in the null hpothesis region.\n",
    "\n",
    "So in our current example consider what happens if our data suggests that our true parameter is less than 1.  If we use a $\\lambda$ value that is larger than 1 as the centre for our statistic then any data that we get will be more surprising than seeing the same data when the centre of our normal distribution is 1.  Or, given any data that we see in the rejection region, the least surprising result will be when we compare that data with the value of $\\lambda=1$.  If $\\lambda$ is greater than $1$ then the same data will be more surprising, so we will be more temped to reject the null hypothesis by that same data."
   ]
  },
  {
   "cell_type": "code",
   "execution_count": 337,
   "id": "fcfb6c16",
   "metadata": {},
   "outputs": [
    {
     "data": {
      "image/png": "[encoded data removed]",
      "text/plain": [
       "<Figure size 432x144 with 1 Axes>"
      ]
     },
     "metadata": {
      "needs_background": "light"
     },
     "output_type": "display_data"
    }
   ],
   "source": [
    "# set up the figure\n",
    "fig, ax = plt.subplots(figsize=(6,2))\n",
    "ax.set_xlim(0,10)\n",
    "ax.set_ylim(-0.1,1)\n",
    "\n",
    "# name some important points on the line\n",
    "xmin,xmax = 0, 9\n",
    "ms= 8\n",
    "la, la_0, la_obs = 5, 3, 2\n",
    "\n",
    "# the fail to reject portion\n",
    "plt.hlines(0, la_0, xmax)\n",
    "#plt.plot(theta_0 - c,y, 'o', ms=10, mfc=\"w\")\n",
    "\n",
    "# make rejection region line heavier weight\n",
    "plt.hlines(0,xmin, theta_0, lw=4,color=\"red\",  label=\"Rejection Region\")\n",
    "\n",
    "# label our parameter la_0, la, and la_obs \n",
    "plt.plot(la_0,0,'o',ms=ms)\n",
    "plt.plot(la,0, 'o', ms=ms, mfc=\"w\")\n",
    "plt.plot(la_obs, 0, 'o', ms=ms)\n",
    "#plt.text(la, y-0.35, r'$\\lambda$', fontsize=14)\n",
    "#plt.text(la_0, y-0.35, r'$\\lambda_0=1$', fontsize=14)\n",
    "#plt.text(theta_0+3,0.75,\"$\\psi$\")\n",
    "\n",
    "# Plot our test function\n",
    "x=[1,1,1,1,1,0,0,0,0,0]\n",
    "plt.plot(x,drawstyle=\"steps-post\",label=\"$\\psi(X_1,...,X_n)$\")\n",
    "plt.xticks(ticks=[la_obs,la_0, la],labels=[r'$\\lambda_{obs}$',r'$\\lambda_0$',r\"$\\lambda$\"])\n",
    "plt.plot\n",
    "plt.legend()\n",
    "ax.get_yaxis().set_visible(False)\n",
    "ax.spines[\"bottom\"].set_visible(True)\n",
    "ax.spines[[\"top\", \"left\", \"right\"]].set_visible(False)\n",
    "ax.spines[\"bottom\"].set_position('zero')\n",
    "plt.show()"
   ]
  },
  {
   "cell_type": "markdown",
   "id": "ce1cd154",
   "metadata": {},
   "source": [
    "#### back to our example\n",
    "\n",
    "We thus take $\\lambda = 1$ when we build our $W$ statistic.\n",
    "\n",
    "$$\n",
    "W=\\sqrt{n}\\frac{\\hat{\\lambda} - 1}{\\hat{\\lambda}} \\overset{\\text{(d)}}{\\underset{n \\to \\infty}{\\longrightarrow}}\\mathcal{N}(0,1)\n",
    "$$\n",
    "\n",
    "So when will we reject the null hypothesis?  The alternative hypothesis is that $\\lambda$ is less than 1.  If our data indicates that $\\lambda$ is small then that means that $\\hat{\\lambda}$ will be small.  That makes the second factor in our test statistic negative and small, so that means we should reject the null hypothesis if our statistic is small.  How small?  If we are testing at a 5% level, then we should reject in the case that\n",
    "$$W \\lt -q_\\alpha$$ where $\\alpha$ is the level of our test.  The picture of this is below."
   ]
  },
  {
   "cell_type": "code",
   "execution_count": 257,
   "id": "d4ec2f73",
   "metadata": {},
   "outputs": [
    {
     "data": {
      "text/plain": [
       "Text(0, 0.5, 'Probability')"
      ]
     },
     "execution_count": 257,
     "metadata": {},
     "output_type": "execute_result"
    },
    {
     "data": {
      "image/png": "[encoded data removed]",
      "text/plain": [
       "<Figure size 432x216 with 2 Axes>"
      ]
     },
     "metadata": {
      "needs_background": "light"
     },
     "output_type": "display_data"
    }
   ],
   "source": [
    "from scipy.stats import expon\n",
    "fig, ax = plt.subplots(figsize=(6,3))\n",
    "xmin=norm.ppf(0.001)\n",
    "xmax=norm.ppf(0.999)\n",
    "q_a = -norm.ppf(0.05) # 5% one sided test\n",
    "ax.set_xlim(xmin,xmax)\n",
    "\n",
    "plt.yticks(ticks=[0,1])\n",
    "ax.set_ylabel(\"Reject\")\n",
    "\n",
    "# the reject portion\n",
    "plt.hlines(0,xmin, -q_a, lw=4)\n",
    "# make rejection region line heavier weight\n",
    "plt.hlines(0,-q_a,xmax, lw=2)\n",
    "\n",
    "# Plot our test function\n",
    "ax.step([xmin,-q_a,xmax],[1,1,0],\n",
    "        drawstyle=\"steps-post\",\n",
    "        label=\"$\\psi(X_1,\\dots,X_n, Y_1,\\dots,Y_m)$\", \n",
    "        alpha=0.5,\n",
    "       color=\"red\")\n",
    "\n",
    "# plot our exponential dist with different y axis\n",
    "# x values for the normal plot.\n",
    "ax2 = ax.twinx()\n",
    "x = np.linspace(xmin, xmax, 201)\n",
    "ax2.plot(x, norm.pdf(x), label=('$\\mathcal{N}(0,1)$'))\n",
    "\n",
    "# shade the rejection region\n",
    "x_left=np.linspace(xmin,-q_a,201)\n",
    "ax2.fill_between(x_left, norm.pdf(x_left), alpha=0.75, facecolor='lightblue')\n",
    "\n",
    "plt.xticks(ticks=[-3,-q_a,0],labels=[\"-3\",'$q_\\\\alpha$',0])\n",
    "\n",
    "ax2.set_ylabel(\"Probability\")\n"
   ]
  },
  {
   "cell_type": "markdown",
   "id": "a5abc804",
   "metadata": {},
   "source": [
    "### Example 4: The Maximum Likelihood Estimator and the Wald test\n",
    "\n",
    "Recall that if we have a function that is sufficiently differentiable and continuous that we have that the Maximum Likelihood Estimator satisfies\n",
    "\n",
    "$$\\sqrt{n}(\\hat{\\theta}^{\\text{MLE}}-\\theta) \\overset{\\text{(d)}}{\\underset{n \\to \\infty}{\\longrightarrow}}\\mathcal{N}(0,\\frac{1}{I(\\theta)})$$\n",
    "\n",
    "Where $I(\\theta)$ is the Fisher information.  So using the example above as a guide if we multiply both sides by the square root of the Fisher information we get\n",
    "\n",
    "$$\\sqrt{n I(\\theta)}(\\hat{\\theta}^{\\text{MLE}}-\\theta) \\overset{\\text{(d)}}{\\underset{n \\to \\infty}{\\longrightarrow}}\\mathcal{N}(0,1)$$\n",
    "\n",
    "But we are not quite there yet.  Notice that the Fisher information depends on our unkown parameter $\\theta$. We need an estimator for $\\theta$.  If we assume that the Fisher information is a continuous function of $\\theta$ ( which we get from the regularity assumptions that allowed us to compute the MLE ) then we can use the continuous mapping theorem and Slutsky's to justify replacing $\\theta$ with $\\hat{\\theta}^{\\text{MLE}}$ to get\n",
    "\n",
    "$$\\sqrt{n I(\\hat{\\theta}^{\\text{MLE}})}(\\hat{\\theta}^{\\text{MLE}}-\\theta) \\overset{\\text{(d)}}{\\underset{n \\to \\infty}{\\longrightarrow}}\\mathcal{N}(0,1)$$\n",
    "\n",
    "And now we can use the Wald test with the test statistic\n",
    "\n",
    "$$W = \\sqrt{n I(\\hat{\\theta}^{\\text{MLE}})}(\\hat{\\theta}^{\\text{MLE}}-\\theta)$$\n",
    "\n",
    "So if we have a two sided test then we can use the test $\\psi=\\mathbb{1}\\{|W|\\gt q_{\\alpha/2}\\}$ or in the case of one sided tests, $\\psi=\\mathbb{1}\\{ W \\gt q_\\alpha\\}$ or $\\psi=\\mathbb{1}\\{ W \\lt q_\\alpha\\}$.\n"
   ]
  },
  {
   "cell_type": "markdown",
   "id": "f2d47194",
   "metadata": {},
   "source": [
    "Example: Suppose that we have observations independently drawn from a [Pareto distribution](https://en.wikipedia.org/wiki/Pareto_distribution) with parameter $\\theta$, $X_1,\\dots,X_n \\overset{\\text{iid}}{\\sim} \\sqrt{\\theta}x^{\\sqrt{\\theta}-1}\\mathbb{1}(0\\le x\\le 1)$.  Suppose that we have $n=67$ observations, and those observations have a geometric average equal to \n",
    "\n",
    "$$\\left(\\prod_{i=1}^{67}X_i\\right)^{\\frac{1}{67}}=0.362$$\n",
    "\n",
    "a) find the Maximum Likelihood Estimator $\\hat{\\theta}$ of $\\theta$.\n",
    "\n",
    "The likelihood is given by\n",
    "\n",
    "$$\n",
    "L(X_1,\\dots,X_n;\\theta)=L_n(\\theta)=\\prod_{i=1}^n\\sqrt{\\theta}X_i^{\\sqrt{\\theta}-1}\n",
    "$$\n",
    "\n",
    "Since $\\theta$ does not vary with $i$ we can move those factors outside the product to get\n",
    "\n",
    "$$\n",
    "L_n(\\theta)= \\theta^{n/2}\\left( \\prod_{i=1}^n X_i\\right)^{\\sqrt{\\theta}-1}\n",
    "$$\n",
    "\n",
    "Then the log likelihood is\n",
    "\n",
    "$$\n",
    "\\ell(\\theta) = \\frac{n}{2}\\ln(\\theta)+ (\\sqrt{\\theta}-1)\\sum_{i=1}^n\\ln(X_i)\n",
    "$$\n",
    "\n",
    "Taking the derivative gives us\n",
    "\n",
    "$$\n",
    "\\ell^\\prime(\\theta) = \\frac{n}{2\\theta} + \\frac{1}{2\\sqrt{\\theta}}\\sum_{i=1}^n\\ln(X_i)\n",
    "$$\n",
    "\n",
    "First notice that since $\\forall X_i, \\ln(X_i) \\lt 0$ because $X_i \\in (0,1)$. Thus setting the derivative of the log likelihood equal to zero we get that\n",
    "\n",
    "$$\n",
    "\\hat{\\theta} = \\left( \\frac{n}{\\sum_{i=1}^n \\ln(X_i)}\\right)^2\n",
    "$$\n",
    "\n",
    "Now that we have our estimator we can use our data. We begin by rewriting the above as\n",
    "\n",
    "$$\n",
    "\\hat{\\theta} = \\left( \\frac{\\sum_{i=1}^{67} X_i}{67} \\right)^{-2}\n",
    "$$\n",
    "\n",
    "\n",
    "Converting the geometric mean to the arithmetic mean gives us this relation. \n",
    "\n",
    "$$\n",
    "\\left( \\prod_{i=1}^{67} X_i\\right) = \\exp(\\frac{\\sum_{i=1}^{67}X_i}{67})=0.362\n",
    "$$\n",
    "\n",
    "Thus\n",
    "\n",
    "$$\n",
    "\\ln(0.362)=\\frac{\\sum_{i=1}^{67}X_i}{67}\n",
    "$$\n",
    "\n",
    "Thus we get that $\\hat{\\theta} = (\\ln{0.362})^{-2} = 0.9685$\n",
    "\n",
    "b) Compute the Fisher Information.\n",
    "\n",
    "From above we have that the first derivative of the log likelihood for $n=1$ is given by\n",
    "\n",
    "$$\n",
    "\\ell^\\prime(\\theta) = \\frac{1}{2\\theta} + \\frac{1}{2\\sqrt{\\theta}}\\ln(X_1)\n",
    "$$\n",
    "\n",
    "So taking the derivative with respect to $\\theta$ gives us\n",
    "\n",
    "$$\n",
    "\\ell^{\\prime\\prime}(\\theta)=-\\frac{1}{2\\theta^2} -\\frac{1}{4}\\theta^{-3/2}\\ln(X_1)\n",
    "$$\n",
    "\n",
    "c) we want to test the hypotheses:\n",
    "\n",
    "$$\n",
    "H_0: \\theta = 1\\\\\n",
    "H_1: \\theta \\ne 1\n",
    "$$\n",
    "\n",
    "What is the asymptotic p-value of the Wald test statistic given in terms of the Fisher Information.\n"
   ]
  }
 ],
 "metadata": {
  "kernelspec": {
   "display_name": "Python 3 (ipykernel)",
   "language": "python",
   "name": "python3"
  },
  "language_info": {
   "codemirror_mode": {
    "name": "ipython",
    "version": 3
   },
   "file_extension": ".py",
   "mimetype": "text/x-python",
   "name": "python",
   "nbconvert_exporter": "python",
   "pygments_lexer": "ipython3",
   "version": "3.9.7"
  }
 },
 "nbformat": 4,
 "nbformat_minor": 5
}
